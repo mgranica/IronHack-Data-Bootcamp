{
 "cells": [
  {
   "cell_type": "markdown",
   "metadata": {},
   "source": [
    "## PROJECT 5: HOUSES PRICES PREDICTION IN BCN DATA CLEANING"
   ]
  },
  {
   "cell_type": "markdown",
   "metadata": {},
   "source": [
    "## DATA WRANGLING"
   ]
  },
  {
   "cell_type": "markdown",
   "metadata": {},
   "source": [
    "### IMPORT THE FILES"
   ]
  },
  {
   "cell_type": "code",
   "execution_count": 8,
   "metadata": {},
   "outputs": [],
   "source": [
    "import pandas as pd\n",
    "import numpy as np\n",
    "import regex"
   ]
  },
  {
   "cell_type": "code",
   "execution_count": 87,
   "metadata": {},
   "outputs": [],
   "source": [
    "df_engel  = pd.read_excel(r'C:\\Users\\Migue Granica\\Desktop\\IronHack\\Modulo_3\\PROJECT_5\\xls\\engel.xlsx')\n",
    "df_sarria = pd.read_excel(r'C:\\Users\\Migue Granica\\Desktop\\IronHack\\Modulo_3\\PROJECT_5\\xls\\sarria.xlsx')\n",
    "df_aprop  = pd.read_excel(r'C:\\Users\\Migue Granica\\Desktop\\IronHack\\Modulo_3\\PROJECT_5\\xls\\aprop.xlsx')\n",
    "df_fox    = pd.read_csv(r'C:\\Users\\Migue Granica\\Desktop\\IronHack\\Modulo_3\\PROJECT_5\\csv\\lucas_fox.csv')"
   ]
  },
  {
   "cell_type": "markdown",
   "metadata": {},
   "source": [
    "## ENGEL"
   ]
  },
  {
   "cell_type": "code",
   "execution_count": 247,
   "metadata": {},
   "outputs": [
    {
     "data": {
      "text/html": [
       "<div>\n",
       "<style scoped>\n",
       "    .dataframe tbody tr th:only-of-type {\n",
       "        vertical-align: middle;\n",
       "    }\n",
       "\n",
       "    .dataframe tbody tr th {\n",
       "        vertical-align: top;\n",
       "    }\n",
       "\n",
       "    .dataframe thead th {\n",
       "        text-align: right;\n",
       "    }\n",
       "</style>\n",
       "<table border=\"1\" class=\"dataframe\">\n",
       "  <thead>\n",
       "    <tr style=\"text-align: right;\">\n",
       "      <th></th>\n",
       "      <th>description</th>\n",
       "      <th>location</th>\n",
       "      <th>attributs</th>\n",
       "      <th>price</th>\n",
       "      <th>Unnamed: 4</th>\n",
       "    </tr>\n",
       "  </thead>\n",
       "  <tbody>\n",
       "    <tr>\n",
       "      <th>0</th>\n",
       "      <td>NaN</td>\n",
       "      <td>NaN</td>\n",
       "      <td>NaN</td>\n",
       "      <td>NaN</td>\n",
       "      <td>NaN</td>\n",
       "    </tr>\n",
       "    <tr>\n",
       "      <th>1</th>\n",
       "      <td>Maravilloso piso en el Born</td>\n",
       "      <td>España, Barcelona, Ciutat Vella, Born-Ribera</td>\n",
       "      <td>2      2      61 m²</td>\n",
       "      <td>440.000 EUR</td>\n",
       "      <td>NaN</td>\n",
       "    </tr>\n",
       "    <tr>\n",
       "      <th>2</th>\n",
       "      <td>NaN</td>\n",
       "      <td>NaN</td>\n",
       "      <td>NaN</td>\n",
       "      <td>NaN</td>\n",
       "      <td>NaN</td>\n",
       "    </tr>\n",
       "    <tr>\n",
       "      <th>3</th>\n",
       "      <td>Amplio piso reformado en el Born</td>\n",
       "      <td>España, Barcelona, Ciutat Vella, Born-Ribera</td>\n",
       "      <td>3      2      134 m²</td>\n",
       "      <td>880.000 EUR</td>\n",
       "      <td>NaN</td>\n",
       "    </tr>\n",
       "    <tr>\n",
       "      <th>4</th>\n",
       "      <td>NaN</td>\n",
       "      <td>NaN</td>\n",
       "      <td>NaN</td>\n",
       "      <td>NaN</td>\n",
       "      <td>NaN</td>\n",
       "    </tr>\n",
       "    <tr>\n",
       "      <th>...</th>\n",
       "      <td>...</td>\n",
       "      <td>...</td>\n",
       "      <td>...</td>\n",
       "      <td>...</td>\n",
       "      <td>...</td>\n",
       "    </tr>\n",
       "    <tr>\n",
       "      <th>2177</th>\n",
       "      <td>Fantástica propiedad en Sarriá con exclusivas ...</td>\n",
       "      <td>España, Barcelona, Sarria, Casco Antiguo</td>\n",
       "      <td>3      2      116 m²</td>\n",
       "      <td>850.000 EUR</td>\n",
       "      <td>NaN</td>\n",
       "    </tr>\n",
       "    <tr>\n",
       "      <th>2178</th>\n",
       "      <td>NaN</td>\n",
       "      <td>NaN</td>\n",
       "      <td>NaN</td>\n",
       "      <td>NaN</td>\n",
       "      <td>NaN</td>\n",
       "    </tr>\n",
       "    <tr>\n",
       "      <th>2179</th>\n",
       "      <td>Casa en Vallvidrera Centro</td>\n",
       "      <td>España, Barcelona, Sarria, Vallvidrera</td>\n",
       "      <td>5      3      208 m²      474 m²</td>\n",
       "      <td>840.000 EUR</td>\n",
       "      <td>NaN</td>\n",
       "    </tr>\n",
       "    <tr>\n",
       "      <th>2180</th>\n",
       "      <td>NaN</td>\n",
       "      <td>NaN</td>\n",
       "      <td>NaN</td>\n",
       "      <td>NaN</td>\n",
       "      <td>NaN</td>\n",
       "    </tr>\n",
       "    <tr>\n",
       "      <th>2181</th>\n",
       "      <td>Luminoso piso alto con terraza y vistas en Sarriá</td>\n",
       "      <td>España, Barcelona, Sarria, Sarria</td>\n",
       "      <td>3      2      115 m²</td>\n",
       "      <td>825.000 EUR</td>\n",
       "      <td>NaN</td>\n",
       "    </tr>\n",
       "  </tbody>\n",
       "</table>\n",
       "<p>2182 rows × 5 columns</p>\n",
       "</div>"
      ],
      "text/plain": [
       "                                            description  \\\n",
       "0                                                   NaN   \n",
       "1                           Maravilloso piso en el Born   \n",
       "2                                                   NaN   \n",
       "3                      Amplio piso reformado en el Born   \n",
       "4                                                   NaN   \n",
       "...                                                 ...   \n",
       "2177  Fantástica propiedad en Sarriá con exclusivas ...   \n",
       "2178                                                NaN   \n",
       "2179                         Casa en Vallvidrera Centro   \n",
       "2180                                                NaN   \n",
       "2181  Luminoso piso alto con terraza y vistas en Sarriá   \n",
       "\n",
       "                                          location  \\\n",
       "0                                              NaN   \n",
       "1     España, Barcelona, Ciutat Vella, Born-Ribera   \n",
       "2                                              NaN   \n",
       "3     España, Barcelona, Ciutat Vella, Born-Ribera   \n",
       "4                                              NaN   \n",
       "...                                            ...   \n",
       "2177      España, Barcelona, Sarria, Casco Antiguo   \n",
       "2178                                           NaN   \n",
       "2179        España, Barcelona, Sarria, Vallvidrera   \n",
       "2180                                           NaN   \n",
       "2181             España, Barcelona, Sarria, Sarria   \n",
       "\n",
       "                                    attributs          price Unnamed: 4  \n",
       "0                                         NaN            NaN        NaN  \n",
       "1                      2      2      61 m²      440.000 EUR         NaN  \n",
       "2                                         NaN            NaN        NaN  \n",
       "3                     3      2      134 m²      880.000 EUR         NaN  \n",
       "4                                         NaN            NaN        NaN  \n",
       "...                                       ...            ...        ...  \n",
       "2177                  3      2      116 m²      850.000 EUR         NaN  \n",
       "2178                                      NaN            NaN        NaN  \n",
       "2179      5      3      208 m²      474 m²      840.000 EUR         NaN  \n",
       "2180                                      NaN            NaN        NaN  \n",
       "2181                  3      2      115 m²      825.000 EUR         NaN  \n",
       "\n",
       "[2182 rows x 5 columns]"
      ]
     },
     "execution_count": 247,
     "metadata": {},
     "output_type": "execute_result"
    }
   ],
   "source": [
    "df_engel_1 = pd.concat([df_engel,df_sarria], ignore_index=True)\n",
    "df_engel_1"
   ]
  },
  {
   "cell_type": "code",
   "execution_count": 248,
   "metadata": {},
   "outputs": [],
   "source": [
    "df_engel_2 = df_engel_1.loc[df_engel_1.description.notnull()].reset_index()"
   ]
  },
  {
   "cell_type": "code",
   "execution_count": 249,
   "metadata": {},
   "outputs": [
    {
     "data": {
      "text/html": [
       "<div>\n",
       "<style scoped>\n",
       "    .dataframe tbody tr th:only-of-type {\n",
       "        vertical-align: middle;\n",
       "    }\n",
       "\n",
       "    .dataframe tbody tr th {\n",
       "        vertical-align: top;\n",
       "    }\n",
       "\n",
       "    .dataframe thead th {\n",
       "        text-align: right;\n",
       "    }\n",
       "</style>\n",
       "<table border=\"1\" class=\"dataframe\">\n",
       "  <thead>\n",
       "    <tr style=\"text-align: right;\">\n",
       "      <th></th>\n",
       "      <th>index</th>\n",
       "      <th>description</th>\n",
       "      <th>location</th>\n",
       "      <th>attributs</th>\n",
       "      <th>price</th>\n",
       "      <th>Unnamed: 4</th>\n",
       "    </tr>\n",
       "  </thead>\n",
       "  <tbody>\n",
       "    <tr>\n",
       "      <th>0</th>\n",
       "      <td>1</td>\n",
       "      <td>Maravilloso piso en el Born</td>\n",
       "      <td>España, Barcelona, Ciutat Vella, Born-Ribera</td>\n",
       "      <td>2      2      61 m²</td>\n",
       "      <td>440.000 EUR</td>\n",
       "      <td>NaN</td>\n",
       "    </tr>\n",
       "    <tr>\n",
       "      <th>1</th>\n",
       "      <td>3</td>\n",
       "      <td>Amplio piso reformado en el Born</td>\n",
       "      <td>España, Barcelona, Ciutat Vella, Born-Ribera</td>\n",
       "      <td>3      2      134 m²</td>\n",
       "      <td>880.000 EUR</td>\n",
       "      <td>NaN</td>\n",
       "    </tr>\n",
       "  </tbody>\n",
       "</table>\n",
       "</div>"
      ],
      "text/plain": [
       "   index                       description  \\\n",
       "0      1       Maravilloso piso en el Born   \n",
       "1      3  Amplio piso reformado en el Born   \n",
       "\n",
       "                                       location                    attributs  \\\n",
       "0  España, Barcelona, Ciutat Vella, Born-Ribera       2      2      61 m²      \n",
       "1  España, Barcelona, Ciutat Vella, Born-Ribera      3      2      134 m²      \n",
       "\n",
       "           price Unnamed: 4  \n",
       "0   440.000 EUR         NaN  \n",
       "1   880.000 EUR         NaN  "
      ]
     },
     "execution_count": 249,
     "metadata": {},
     "output_type": "execute_result"
    }
   ],
   "source": [
    "df_engel_2.head(2)"
   ]
  },
  {
   "cell_type": "code",
   "execution_count": 250,
   "metadata": {},
   "outputs": [],
   "source": [
    "df_engel_2['attributs']=df_engel_2['attributs'].str.replace('m²','')\n",
    "df_engel_2['price']=df_engel_2['price'].str.replace('EUR','')\n",
    "df_engel_2['price']=df_engel_2['price'].str.replace('.','')"
   ]
  },
  {
   "cell_type": "code",
   "execution_count": 251,
   "metadata": {},
   "outputs": [],
   "source": [
    "df_engel_2[['country','city','district','neigbourhood']]=df_engel_2['location'].str.split(',', expand=True)\n",
    "df_engel_2[['room_n','bath_n','sqm_constr','sqm_terrain']]=df_engel_2['attributs'].str.split('     ', expand=True)\n"
   ]
  },
  {
   "cell_type": "code",
   "execution_count": 252,
   "metadata": {},
   "outputs": [
    {
     "data": {
      "text/html": [
       "<div>\n",
       "<style scoped>\n",
       "    .dataframe tbody tr th:only-of-type {\n",
       "        vertical-align: middle;\n",
       "    }\n",
       "\n",
       "    .dataframe tbody tr th {\n",
       "        vertical-align: top;\n",
       "    }\n",
       "\n",
       "    .dataframe thead th {\n",
       "        text-align: right;\n",
       "    }\n",
       "</style>\n",
       "<table border=\"1\" class=\"dataframe\">\n",
       "  <thead>\n",
       "    <tr style=\"text-align: right;\">\n",
       "      <th></th>\n",
       "      <th>index</th>\n",
       "      <th>description</th>\n",
       "      <th>location</th>\n",
       "      <th>attributs</th>\n",
       "      <th>price</th>\n",
       "      <th>Unnamed: 4</th>\n",
       "      <th>country</th>\n",
       "      <th>city</th>\n",
       "      <th>district</th>\n",
       "      <th>neigbourhood</th>\n",
       "      <th>room_n</th>\n",
       "      <th>bath_n</th>\n",
       "      <th>sqm_constr</th>\n",
       "      <th>sqm_terrain</th>\n",
       "    </tr>\n",
       "  </thead>\n",
       "  <tbody>\n",
       "    <tr>\n",
       "      <th>0</th>\n",
       "      <td>1</td>\n",
       "      <td>Maravilloso piso en el Born</td>\n",
       "      <td>España, Barcelona, Ciutat Vella, Born-Ribera</td>\n",
       "      <td>2      2      61</td>\n",
       "      <td>440000</td>\n",
       "      <td>NaN</td>\n",
       "      <td>España</td>\n",
       "      <td>Barcelona</td>\n",
       "      <td>Ciutat Vella</td>\n",
       "      <td>Born-Ribera</td>\n",
       "      <td>2</td>\n",
       "      <td>2</td>\n",
       "      <td>61</td>\n",
       "      <td>None</td>\n",
       "    </tr>\n",
       "    <tr>\n",
       "      <th>1</th>\n",
       "      <td>3</td>\n",
       "      <td>Amplio piso reformado en el Born</td>\n",
       "      <td>España, Barcelona, Ciutat Vella, Born-Ribera</td>\n",
       "      <td>3      2      134</td>\n",
       "      <td>880000</td>\n",
       "      <td>NaN</td>\n",
       "      <td>España</td>\n",
       "      <td>Barcelona</td>\n",
       "      <td>Ciutat Vella</td>\n",
       "      <td>Born-Ribera</td>\n",
       "      <td>3</td>\n",
       "      <td>2</td>\n",
       "      <td>134</td>\n",
       "      <td>None</td>\n",
       "    </tr>\n",
       "    <tr>\n",
       "      <th>2</th>\n",
       "      <td>5</td>\n",
       "      <td>Amplio piso reformado en Born</td>\n",
       "      <td>España, Barcelona, Ciutat Vella, Born-Ribera</td>\n",
       "      <td>2      2      129</td>\n",
       "      <td>840000</td>\n",
       "      <td>NaN</td>\n",
       "      <td>España</td>\n",
       "      <td>Barcelona</td>\n",
       "      <td>Ciutat Vella</td>\n",
       "      <td>Born-Ribera</td>\n",
       "      <td>2</td>\n",
       "      <td>2</td>\n",
       "      <td>129</td>\n",
       "      <td>None</td>\n",
       "    </tr>\n",
       "    <tr>\n",
       "      <th>3</th>\n",
       "      <td>7</td>\n",
       "      <td>Amplio piso reformado en el Born</td>\n",
       "      <td>España, Barcelona, Ciutat Vella, Born-Ribera</td>\n",
       "      <td>2      2      93</td>\n",
       "      <td>720000</td>\n",
       "      <td>NaN</td>\n",
       "      <td>España</td>\n",
       "      <td>Barcelona</td>\n",
       "      <td>Ciutat Vella</td>\n",
       "      <td>Born-Ribera</td>\n",
       "      <td>2</td>\n",
       "      <td>2</td>\n",
       "      <td>93</td>\n",
       "      <td>None</td>\n",
       "    </tr>\n",
       "    <tr>\n",
       "      <th>4</th>\n",
       "      <td>9</td>\n",
       "      <td>Amplio piso reformado en el Born</td>\n",
       "      <td>España, Barcelona, Ciutat Vella, Born-Ribera</td>\n",
       "      <td>1      2      65</td>\n",
       "      <td>400000</td>\n",
       "      <td>NaN</td>\n",
       "      <td>España</td>\n",
       "      <td>Barcelona</td>\n",
       "      <td>Ciutat Vella</td>\n",
       "      <td>Born-Ribera</td>\n",
       "      <td>1</td>\n",
       "      <td>2</td>\n",
       "      <td>65</td>\n",
       "      <td>None</td>\n",
       "    </tr>\n",
       "  </tbody>\n",
       "</table>\n",
       "</div>"
      ],
      "text/plain": [
       "   index                       description  \\\n",
       "0      1       Maravilloso piso en el Born   \n",
       "1      3  Amplio piso reformado en el Born   \n",
       "2      5     Amplio piso reformado en Born   \n",
       "3      7  Amplio piso reformado en el Born   \n",
       "4      9  Amplio piso reformado en el Born   \n",
       "\n",
       "                                       location                  attributs  \\\n",
       "0  España, Barcelona, Ciutat Vella, Born-Ribera       2      2      61       \n",
       "1  España, Barcelona, Ciutat Vella, Born-Ribera      3      2      134       \n",
       "2  España, Barcelona, Ciutat Vella, Born-Ribera      2      2      129       \n",
       "3  España, Barcelona, Ciutat Vella, Born-Ribera       2      2      93       \n",
       "4  España, Barcelona, Ciutat Vella, Born-Ribera       1      2      65       \n",
       "\n",
       "       price Unnamed: 4 country        city       district  neigbourhood  \\\n",
       "0   440000          NaN  España   Barcelona   Ciutat Vella   Born-Ribera   \n",
       "1   880000          NaN  España   Barcelona   Ciutat Vella   Born-Ribera   \n",
       "2   840000          NaN  España   Barcelona   Ciutat Vella   Born-Ribera   \n",
       "3   720000          NaN  España   Barcelona   Ciutat Vella   Born-Ribera   \n",
       "4   400000          NaN  España   Barcelona   Ciutat Vella   Born-Ribera   \n",
       "\n",
       "  room_n bath_n sqm_constr sqm_terrain  \n",
       "0      2      2     61            None  \n",
       "1      3      2    134            None  \n",
       "2      2      2    129            None  \n",
       "3      2      2     93            None  \n",
       "4      1      2     65            None  "
      ]
     },
     "execution_count": 252,
     "metadata": {},
     "output_type": "execute_result"
    }
   ],
   "source": [
    "df_engel_2.head()"
   ]
  },
  {
   "cell_type": "code",
   "execution_count": 253,
   "metadata": {},
   "outputs": [],
   "source": [
    "df_engel_2.drop(['index','location','attributs','Unnamed: 4', 'country', 'city'],axis=1, inplace=True)"
   ]
  },
  {
   "cell_type": "code",
   "execution_count": 254,
   "metadata": {},
   "outputs": [
    {
     "data": {
      "text/plain": [
       "Index(['description', 'price', 'district', 'neigbourhood', 'room_n', 'bath_n',\n",
       "       'sqm_constr', 'sqm_terrain'],\n",
       "      dtype='object')"
      ]
     },
     "execution_count": 254,
     "metadata": {},
     "output_type": "execute_result"
    }
   ],
   "source": [
    "df_engel_2.columns"
   ]
  },
  {
   "cell_type": "code",
   "execution_count": 255,
   "metadata": {
    "scrolled": true
   },
   "outputs": [
    {
     "data": {
      "text/html": [
       "<div>\n",
       "<style scoped>\n",
       "    .dataframe tbody tr th:only-of-type {\n",
       "        vertical-align: middle;\n",
       "    }\n",
       "\n",
       "    .dataframe tbody tr th {\n",
       "        vertical-align: top;\n",
       "    }\n",
       "\n",
       "    .dataframe thead th {\n",
       "        text-align: right;\n",
       "    }\n",
       "</style>\n",
       "<table border=\"1\" class=\"dataframe\">\n",
       "  <thead>\n",
       "    <tr style=\"text-align: right;\">\n",
       "      <th></th>\n",
       "      <th>description</th>\n",
       "      <th>district</th>\n",
       "      <th>neigbourhood</th>\n",
       "      <th>room_n</th>\n",
       "      <th>bath_n</th>\n",
       "      <th>sqm_constr</th>\n",
       "      <th>sqm_terrain</th>\n",
       "      <th>price</th>\n",
       "    </tr>\n",
       "  </thead>\n",
       "  <tbody>\n",
       "    <tr>\n",
       "      <th>0</th>\n",
       "      <td>Maravilloso piso en el Born</td>\n",
       "      <td>Ciutat Vella</td>\n",
       "      <td>Born-Ribera</td>\n",
       "      <td>2</td>\n",
       "      <td>2</td>\n",
       "      <td>61</td>\n",
       "      <td>None</td>\n",
       "      <td>440000</td>\n",
       "    </tr>\n",
       "    <tr>\n",
       "      <th>1</th>\n",
       "      <td>Amplio piso reformado en el Born</td>\n",
       "      <td>Ciutat Vella</td>\n",
       "      <td>Born-Ribera</td>\n",
       "      <td>3</td>\n",
       "      <td>2</td>\n",
       "      <td>134</td>\n",
       "      <td>None</td>\n",
       "      <td>880000</td>\n",
       "    </tr>\n",
       "    <tr>\n",
       "      <th>2</th>\n",
       "      <td>Amplio piso reformado en Born</td>\n",
       "      <td>Ciutat Vella</td>\n",
       "      <td>Born-Ribera</td>\n",
       "      <td>2</td>\n",
       "      <td>2</td>\n",
       "      <td>129</td>\n",
       "      <td>None</td>\n",
       "      <td>840000</td>\n",
       "    </tr>\n",
       "    <tr>\n",
       "      <th>3</th>\n",
       "      <td>Amplio piso reformado en el Born</td>\n",
       "      <td>Ciutat Vella</td>\n",
       "      <td>Born-Ribera</td>\n",
       "      <td>2</td>\n",
       "      <td>2</td>\n",
       "      <td>93</td>\n",
       "      <td>None</td>\n",
       "      <td>720000</td>\n",
       "    </tr>\n",
       "    <tr>\n",
       "      <th>4</th>\n",
       "      <td>Amplio piso reformado en el Born</td>\n",
       "      <td>Ciutat Vella</td>\n",
       "      <td>Born-Ribera</td>\n",
       "      <td>1</td>\n",
       "      <td>2</td>\n",
       "      <td>65</td>\n",
       "      <td>None</td>\n",
       "      <td>400000</td>\n",
       "    </tr>\n",
       "  </tbody>\n",
       "</table>\n",
       "</div>"
      ],
      "text/plain": [
       "                        description       district  neigbourhood room_n  \\\n",
       "0       Maravilloso piso en el Born   Ciutat Vella   Born-Ribera      2   \n",
       "1  Amplio piso reformado en el Born   Ciutat Vella   Born-Ribera      3   \n",
       "2     Amplio piso reformado en Born   Ciutat Vella   Born-Ribera      2   \n",
       "3  Amplio piso reformado en el Born   Ciutat Vella   Born-Ribera      2   \n",
       "4  Amplio piso reformado en el Born   Ciutat Vella   Born-Ribera      1   \n",
       "\n",
       "  bath_n sqm_constr sqm_terrain      price  \n",
       "0      2     61            None   440000    \n",
       "1      2    134            None   880000    \n",
       "2      2    129            None   840000    \n",
       "3      2     93            None   720000    \n",
       "4      2     65            None   400000    "
      ]
     },
     "execution_count": 255,
     "metadata": {},
     "output_type": "execute_result"
    }
   ],
   "source": [
    "df_engel_3 = df_engel_2[['description', 'district', 'neigbourhood', 'room_n', 'bath_n','sqm_constr', 'sqm_terrain','price']]\n",
    "df_engel_3.head()"
   ]
  },
  {
   "cell_type": "code",
   "execution_count": 256,
   "metadata": {},
   "outputs": [
    {
     "data": {
      "text/plain": [
       "description     object\n",
       "district        object\n",
       "neigbourhood    object\n",
       "room_n          object\n",
       "bath_n          object\n",
       "sqm_constr      object\n",
       "sqm_terrain     object\n",
       "price           object\n",
       "dtype: object"
      ]
     },
     "execution_count": 256,
     "metadata": {},
     "output_type": "execute_result"
    }
   ],
   "source": [
    "df_engel_3.dtypes"
   ]
  },
  {
   "cell_type": "code",
   "execution_count": 257,
   "metadata": {},
   "outputs": [],
   "source": [
    "to_num = ['room_n', 'bath_n', 'sqm_constr',\t'sqm_terrain', 'price']\n",
    "\n",
    "for col in to_num:\n",
    "    df_engel_3[col] = df_engel_3[col].apply(pd.to_numeric, errors='coerce')\n"
   ]
  },
  {
   "cell_type": "code",
   "execution_count": 258,
   "metadata": {},
   "outputs": [],
   "source": [
    "df_engel_3['district']=df_engel_3.district.str.lstrip()"
   ]
  },
  {
   "cell_type": "code",
   "execution_count": 259,
   "metadata": {
    "scrolled": true
   },
   "outputs": [
    {
     "data": {
      "text/plain": [
       "Eixample          357\n",
       "Ciutat Vella      203\n",
       "Sant Gervasi      164\n",
       "Gràcia             79\n",
       "Sants Montjuic     77\n",
       "Poblenou           49\n",
       "Sarria             41\n",
       "Horta Guinardó     39\n",
       "Les Corts          32\n",
       "Clot               15\n",
       "Guinardó           11\n",
       "Horta              11\n",
       "Diagonal Mar        6\n",
       "Vila Olímpica       5\n",
       "Name: district, dtype: int64"
      ]
     },
     "execution_count": 259,
     "metadata": {},
     "output_type": "execute_result"
    }
   ],
   "source": [
    "df_engel_3.district.value_counts()"
   ]
  },
  {
   "cell_type": "code",
   "execution_count": 260,
   "metadata": {},
   "outputs": [],
   "source": [
    "def district_correct(name):\n",
    "    \n",
    "    if name=='Horta' or name=='Guinardó':\n",
    "        result = 'Horta Guinardó'\n",
    "    elif name=='Vila Olímpica' or name=='Diagonal Mar': \n",
    "        result='Sant Marti'\n",
    "    elif name=='Clot' or name=='Poblenou':\n",
    "        result='Sant Marti'\n",
    "    elif name=='Sant Gervasi' or name=='Sarria':\n",
    "        result='Sarria-Sant_Gervasi'\n",
    "    else:\n",
    "        result=name\n",
    "        \n",
    "    return result"
   ]
  },
  {
   "cell_type": "code",
   "execution_count": 261,
   "metadata": {},
   "outputs": [
    {
     "data": {
      "text/plain": [
       "'Sant Marti'"
      ]
     },
     "execution_count": 261,
     "metadata": {},
     "output_type": "execute_result"
    }
   ],
   "source": [
    "district_correct('Poblenou')"
   ]
  },
  {
   "cell_type": "code",
   "execution_count": 262,
   "metadata": {},
   "outputs": [],
   "source": [
    "df_engel_3.district=df_engel_3.district.apply(lambda x: district_correct(x))"
   ]
  },
  {
   "cell_type": "code",
   "execution_count": 263,
   "metadata": {
    "scrolled": false
   },
   "outputs": [
    {
     "data": {
      "text/plain": [
       "Eixample               357\n",
       "Sarria-Sant_Gervasi    205\n",
       "Ciutat Vella           203\n",
       "Gràcia                  79\n",
       "Sants Montjuic          77\n",
       "Sant Marti              75\n",
       "Horta Guinardó          61\n",
       "Les Corts               32\n",
       "Name: district, dtype: int64"
      ]
     },
     "execution_count": 263,
     "metadata": {},
     "output_type": "execute_result"
    }
   ],
   "source": [
    "df_engel_3.district.value_counts()"
   ]
  },
  {
   "cell_type": "code",
   "execution_count": 264,
   "metadata": {},
   "outputs": [
    {
     "data": {
      "text/html": [
       "<div>\n",
       "<style scoped>\n",
       "    .dataframe tbody tr th:only-of-type {\n",
       "        vertical-align: middle;\n",
       "    }\n",
       "\n",
       "    .dataframe tbody tr th {\n",
       "        vertical-align: top;\n",
       "    }\n",
       "\n",
       "    .dataframe thead th {\n",
       "        text-align: right;\n",
       "    }\n",
       "</style>\n",
       "<table border=\"1\" class=\"dataframe\">\n",
       "  <thead>\n",
       "    <tr style=\"text-align: right;\">\n",
       "      <th></th>\n",
       "      <th>description</th>\n",
       "      <th>district</th>\n",
       "      <th>neigbourhood</th>\n",
       "      <th>room_n</th>\n",
       "      <th>bath_n</th>\n",
       "      <th>sqm_constr</th>\n",
       "      <th>sqm_terrain</th>\n",
       "      <th>price</th>\n",
       "    </tr>\n",
       "  </thead>\n",
       "  <tbody>\n",
       "    <tr>\n",
       "      <th>1</th>\n",
       "      <td>Amplio piso reformado en el Born</td>\n",
       "      <td>Ciutat Vella</td>\n",
       "      <td>Born-Ribera</td>\n",
       "      <td>3.0</td>\n",
       "      <td>2.0</td>\n",
       "      <td>134.0</td>\n",
       "      <td>NaN</td>\n",
       "      <td>880000.0</td>\n",
       "    </tr>\n",
       "    <tr>\n",
       "      <th>2</th>\n",
       "      <td>Amplio piso reformado en Born</td>\n",
       "      <td>Ciutat Vella</td>\n",
       "      <td>Born-Ribera</td>\n",
       "      <td>2.0</td>\n",
       "      <td>2.0</td>\n",
       "      <td>129.0</td>\n",
       "      <td>NaN</td>\n",
       "      <td>840000.0</td>\n",
       "    </tr>\n",
       "    <tr>\n",
       "      <th>3</th>\n",
       "      <td>Amplio piso reformado en el Born</td>\n",
       "      <td>Ciutat Vella</td>\n",
       "      <td>Born-Ribera</td>\n",
       "      <td>2.0</td>\n",
       "      <td>2.0</td>\n",
       "      <td>93.0</td>\n",
       "      <td>NaN</td>\n",
       "      <td>720000.0</td>\n",
       "    </tr>\n",
       "    <tr>\n",
       "      <th>4</th>\n",
       "      <td>Amplio piso reformado en el Born</td>\n",
       "      <td>Ciutat Vella</td>\n",
       "      <td>Born-Ribera</td>\n",
       "      <td>1.0</td>\n",
       "      <td>2.0</td>\n",
       "      <td>65.0</td>\n",
       "      <td>NaN</td>\n",
       "      <td>400000.0</td>\n",
       "    </tr>\n",
       "    <tr>\n",
       "      <th>8</th>\n",
       "      <td>Pisos reformados en el Born</td>\n",
       "      <td>Ciutat Vella</td>\n",
       "      <td>Born-Ribera</td>\n",
       "      <td>NaN</td>\n",
       "      <td>NaN</td>\n",
       "      <td>4.0</td>\n",
       "      <td>NaN</td>\n",
       "      <td>NaN</td>\n",
       "    </tr>\n",
       "    <tr>\n",
       "      <th>...</th>\n",
       "      <td>...</td>\n",
       "      <td>...</td>\n",
       "      <td>...</td>\n",
       "      <td>...</td>\n",
       "      <td>...</td>\n",
       "      <td>...</td>\n",
       "      <td>...</td>\n",
       "      <td>...</td>\n",
       "    </tr>\n",
       "    <tr>\n",
       "      <th>1019</th>\n",
       "      <td>Piso reformado a estrenar en Madrazo</td>\n",
       "      <td>Sarria-Sant_Gervasi</td>\n",
       "      <td>Galvany</td>\n",
       "      <td>3.0</td>\n",
       "      <td>2.0</td>\n",
       "      <td>129.0</td>\n",
       "      <td>NaN</td>\n",
       "      <td>600000.0</td>\n",
       "    </tr>\n",
       "    <tr>\n",
       "      <th>1022</th>\n",
       "      <td>Preciosa planta baja reformada en el Putxet</td>\n",
       "      <td>Sarria-Sant_Gervasi</td>\n",
       "      <td>Putget</td>\n",
       "      <td>3.0</td>\n",
       "      <td>2.0</td>\n",
       "      <td>133.0</td>\n",
       "      <td>NaN</td>\n",
       "      <td>580000.0</td>\n",
       "    </tr>\n",
       "    <tr>\n",
       "      <th>1026</th>\n",
       "      <td>Piso para reformar en Muntaner</td>\n",
       "      <td>Sarria-Sant_Gervasi</td>\n",
       "      <td>Bonanova</td>\n",
       "      <td>4.0</td>\n",
       "      <td>2.0</td>\n",
       "      <td>102.0</td>\n",
       "      <td>NaN</td>\n",
       "      <td>530000.0</td>\n",
       "    </tr>\n",
       "    <tr>\n",
       "      <th>1030</th>\n",
       "      <td>Piso a reformar en Tres Torres</td>\n",
       "      <td>Sarria-Sant_Gervasi</td>\n",
       "      <td>Tres Torres</td>\n",
       "      <td>3.0</td>\n",
       "      <td>1.0</td>\n",
       "      <td>90.0</td>\n",
       "      <td>NaN</td>\n",
       "      <td>505000.0</td>\n",
       "    </tr>\n",
       "    <tr>\n",
       "      <th>1036</th>\n",
       "      <td>Fantástico piso reformado en Sant Gervasi</td>\n",
       "      <td>Sarria-Sant_Gervasi</td>\n",
       "      <td>Putget</td>\n",
       "      <td>1.0</td>\n",
       "      <td>1.0</td>\n",
       "      <td>60.0</td>\n",
       "      <td>NaN</td>\n",
       "      <td>285000.0</td>\n",
       "    </tr>\n",
       "  </tbody>\n",
       "</table>\n",
       "<p>170 rows × 8 columns</p>\n",
       "</div>"
      ],
      "text/plain": [
       "                                      description             district  \\\n",
       "1                Amplio piso reformado en el Born         Ciutat Vella   \n",
       "2                   Amplio piso reformado en Born         Ciutat Vella   \n",
       "3                Amplio piso reformado en el Born         Ciutat Vella   \n",
       "4                Amplio piso reformado en el Born         Ciutat Vella   \n",
       "8                     Pisos reformados en el Born         Ciutat Vella   \n",
       "...                                           ...                  ...   \n",
       "1019         Piso reformado a estrenar en Madrazo  Sarria-Sant_Gervasi   \n",
       "1022  Preciosa planta baja reformada en el Putxet  Sarria-Sant_Gervasi   \n",
       "1026               Piso para reformar en Muntaner  Sarria-Sant_Gervasi   \n",
       "1030               Piso a reformar en Tres Torres  Sarria-Sant_Gervasi   \n",
       "1036    Fantástico piso reformado en Sant Gervasi  Sarria-Sant_Gervasi   \n",
       "\n",
       "      neigbourhood  room_n  bath_n  sqm_constr  sqm_terrain     price  \n",
       "1      Born-Ribera     3.0     2.0       134.0          NaN  880000.0  \n",
       "2      Born-Ribera     2.0     2.0       129.0          NaN  840000.0  \n",
       "3      Born-Ribera     2.0     2.0        93.0          NaN  720000.0  \n",
       "4      Born-Ribera     1.0     2.0        65.0          NaN  400000.0  \n",
       "8      Born-Ribera     NaN     NaN         4.0          NaN       NaN  \n",
       "...            ...     ...     ...         ...          ...       ...  \n",
       "1019       Galvany     3.0     2.0       129.0          NaN  600000.0  \n",
       "1022        Putget     3.0     2.0       133.0          NaN  580000.0  \n",
       "1026      Bonanova     4.0     2.0       102.0          NaN  530000.0  \n",
       "1030   Tres Torres     3.0     1.0        90.0          NaN  505000.0  \n",
       "1036        Putget     1.0     1.0        60.0          NaN  285000.0  \n",
       "\n",
       "[170 rows x 8 columns]"
      ]
     },
     "execution_count": 264,
     "metadata": {},
     "output_type": "execute_result"
    }
   ],
   "source": [
    "df_engel_3.loc[df_engel_3.description.str.contains('reforma')]"
   ]
  },
  {
   "cell_type": "code",
   "execution_count": 265,
   "metadata": {},
   "outputs": [],
   "source": [
    "df_engel_3['renovated']=np.where(df_engel_3.description.str.contains('reforma'),1,0)"
   ]
  },
  {
   "cell_type": "code",
   "execution_count": 266,
   "metadata": {},
   "outputs": [
    {
     "data": {
      "text/html": [
       "<div>\n",
       "<style scoped>\n",
       "    .dataframe tbody tr th:only-of-type {\n",
       "        vertical-align: middle;\n",
       "    }\n",
       "\n",
       "    .dataframe tbody tr th {\n",
       "        vertical-align: top;\n",
       "    }\n",
       "\n",
       "    .dataframe thead th {\n",
       "        text-align: right;\n",
       "    }\n",
       "</style>\n",
       "<table border=\"1\" class=\"dataframe\">\n",
       "  <thead>\n",
       "    <tr style=\"text-align: right;\">\n",
       "      <th></th>\n",
       "      <th>description</th>\n",
       "      <th>district</th>\n",
       "      <th>neigbourhood</th>\n",
       "      <th>room_n</th>\n",
       "      <th>bath_n</th>\n",
       "      <th>sqm_constr</th>\n",
       "      <th>sqm_terrain</th>\n",
       "      <th>price</th>\n",
       "      <th>renovated</th>\n",
       "    </tr>\n",
       "  </thead>\n",
       "  <tbody>\n",
       "    <tr>\n",
       "      <th>0</th>\n",
       "      <td>Maravilloso piso en el Born</td>\n",
       "      <td>Ciutat Vella</td>\n",
       "      <td>Born-Ribera</td>\n",
       "      <td>2.0</td>\n",
       "      <td>2.0</td>\n",
       "      <td>61.0</td>\n",
       "      <td>NaN</td>\n",
       "      <td>440000.0</td>\n",
       "      <td>0</td>\n",
       "    </tr>\n",
       "    <tr>\n",
       "      <th>1</th>\n",
       "      <td>Amplio piso reformado en el Born</td>\n",
       "      <td>Ciutat Vella</td>\n",
       "      <td>Born-Ribera</td>\n",
       "      <td>3.0</td>\n",
       "      <td>2.0</td>\n",
       "      <td>134.0</td>\n",
       "      <td>NaN</td>\n",
       "      <td>880000.0</td>\n",
       "      <td>1</td>\n",
       "    </tr>\n",
       "    <tr>\n",
       "      <th>2</th>\n",
       "      <td>Amplio piso reformado en Born</td>\n",
       "      <td>Ciutat Vella</td>\n",
       "      <td>Born-Ribera</td>\n",
       "      <td>2.0</td>\n",
       "      <td>2.0</td>\n",
       "      <td>129.0</td>\n",
       "      <td>NaN</td>\n",
       "      <td>840000.0</td>\n",
       "      <td>1</td>\n",
       "    </tr>\n",
       "    <tr>\n",
       "      <th>3</th>\n",
       "      <td>Amplio piso reformado en el Born</td>\n",
       "      <td>Ciutat Vella</td>\n",
       "      <td>Born-Ribera</td>\n",
       "      <td>2.0</td>\n",
       "      <td>2.0</td>\n",
       "      <td>93.0</td>\n",
       "      <td>NaN</td>\n",
       "      <td>720000.0</td>\n",
       "      <td>1</td>\n",
       "    </tr>\n",
       "    <tr>\n",
       "      <th>4</th>\n",
       "      <td>Amplio piso reformado en el Born</td>\n",
       "      <td>Ciutat Vella</td>\n",
       "      <td>Born-Ribera</td>\n",
       "      <td>1.0</td>\n",
       "      <td>2.0</td>\n",
       "      <td>65.0</td>\n",
       "      <td>NaN</td>\n",
       "      <td>400000.0</td>\n",
       "      <td>1</td>\n",
       "    </tr>\n",
       "  </tbody>\n",
       "</table>\n",
       "</div>"
      ],
      "text/plain": [
       "                        description      district  neigbourhood  room_n  \\\n",
       "0       Maravilloso piso en el Born  Ciutat Vella   Born-Ribera     2.0   \n",
       "1  Amplio piso reformado en el Born  Ciutat Vella   Born-Ribera     3.0   \n",
       "2     Amplio piso reformado en Born  Ciutat Vella   Born-Ribera     2.0   \n",
       "3  Amplio piso reformado en el Born  Ciutat Vella   Born-Ribera     2.0   \n",
       "4  Amplio piso reformado en el Born  Ciutat Vella   Born-Ribera     1.0   \n",
       "\n",
       "   bath_n  sqm_constr  sqm_terrain     price  renovated  \n",
       "0     2.0        61.0          NaN  440000.0          0  \n",
       "1     2.0       134.0          NaN  880000.0          1  \n",
       "2     2.0       129.0          NaN  840000.0          1  \n",
       "3     2.0        93.0          NaN  720000.0          1  \n",
       "4     2.0        65.0          NaN  400000.0          1  "
      ]
     },
     "execution_count": 266,
     "metadata": {},
     "output_type": "execute_result"
    }
   ],
   "source": [
    "df_engel_3.head()"
   ]
  },
  {
   "cell_type": "code",
   "execution_count": 267,
   "metadata": {},
   "outputs": [
    {
     "data": {
      "text/plain": [
       "description        0\n",
       "district           2\n",
       "neigbourhood      74\n",
       "room_n            60\n",
       "bath_n            67\n",
       "sqm_constr        19\n",
       "sqm_terrain     1033\n",
       "price             76\n",
       "renovated          0\n",
       "dtype: int64"
      ]
     },
     "execution_count": 267,
     "metadata": {},
     "output_type": "execute_result"
    }
   ],
   "source": [
    "df_engel_3.isna().sum()"
   ]
  },
  {
   "cell_type": "code",
   "execution_count": 268,
   "metadata": {},
   "outputs": [
    {
     "data": {
      "text/plain": [
       "Index(['description', 'district', 'neigbourhood', 'room_n', 'bath_n',\n",
       "       'sqm_constr', 'sqm_terrain', 'price', 'renovated'],\n",
       "      dtype='object')"
      ]
     },
     "execution_count": 268,
     "metadata": {},
     "output_type": "execute_result"
    }
   ],
   "source": [
    "df_engel_3.columns"
   ]
  },
  {
   "cell_type": "code",
   "execution_count": 269,
   "metadata": {},
   "outputs": [],
   "source": [
    "df_engel_4 = df_engel_3[['district', 'room_n', 'bath_n', 'renovated', 'sqm_constr', 'price']]"
   ]
  },
  {
   "cell_type": "markdown",
   "metadata": {},
   "source": [
    "## Aproperties"
   ]
  },
  {
   "cell_type": "code",
   "execution_count": 111,
   "metadata": {},
   "outputs": [
    {
     "data": {
      "text/html": [
       "<div>\n",
       "<style scoped>\n",
       "    .dataframe tbody tr th:only-of-type {\n",
       "        vertical-align: middle;\n",
       "    }\n",
       "\n",
       "    .dataframe tbody tr th {\n",
       "        vertical-align: top;\n",
       "    }\n",
       "\n",
       "    .dataframe thead th {\n",
       "        text-align: right;\n",
       "    }\n",
       "</style>\n",
       "<table border=\"1\" class=\"dataframe\">\n",
       "  <thead>\n",
       "    <tr style=\"text-align: right;\">\n",
       "      <th></th>\n",
       "      <th>description</th>\n",
       "      <th>location</th>\n",
       "      <th>attributs</th>\n",
       "      <th>price</th>\n",
       "    </tr>\n",
       "  </thead>\n",
       "  <tbody>\n",
       "    <tr>\n",
       "      <th>0</th>\n",
       "      <td>NaN</td>\n",
       "      <td>NaN</td>\n",
       "      <td>NaN</td>\n",
       "      <td>NaN</td>\n",
       "    </tr>\n",
       "    <tr>\n",
       "      <th>1</th>\n",
       "      <td>Piso reformado y amueblado en Sagrada Familia</td>\n",
       "      <td>Eixample Dreta, Barcelona ciudad</td>\n",
       "      <td>77m22 Dormitorios 2 Baños \\r\\n</td>\n",
       "      <td>515000</td>\n",
       "    </tr>\n",
       "    <tr>\n",
       "      <th>2</th>\n",
       "      <td>NaN</td>\n",
       "      <td>NaN</td>\n",
       "      <td>NaN</td>\n",
       "      <td>NaN</td>\n",
       "    </tr>\n",
       "    <tr>\n",
       "      <th>3</th>\n",
       "      <td>Piso reformado de cuatro habitaciones y balcón</td>\n",
       "      <td>Horta-Guinardó, Barcelona ciudad</td>\n",
       "      <td>101m24 Dormitorios 2 Baños \\r\\n</td>\n",
       "      <td>399000</td>\n",
       "    </tr>\n",
       "    <tr>\n",
       "      <th>4</th>\n",
       "      <td>NaN</td>\n",
       "      <td>NaN</td>\n",
       "      <td>NaN</td>\n",
       "      <td>NaN</td>\n",
       "    </tr>\n",
       "  </tbody>\n",
       "</table>\n",
       "</div>"
      ],
      "text/plain": [
       "                                      description  \\\n",
       "0                                             NaN   \n",
       "1   Piso reformado y amueblado en Sagrada Familia   \n",
       "2                                             NaN   \n",
       "3  Piso reformado de cuatro habitaciones y balcón   \n",
       "4                                             NaN   \n",
       "\n",
       "                           location                        attributs   price  \n",
       "0                               NaN                              NaN     NaN  \n",
       "1  Eixample Dreta, Barcelona ciudad   77m22 Dormitorios 2 Baños \\r\\n  515000  \n",
       "2                               NaN                              NaN     NaN  \n",
       "3  Horta-Guinardó, Barcelona ciudad  101m24 Dormitorios 2 Baños \\r\\n  399000  \n",
       "4                               NaN                              NaN     NaN  "
      ]
     },
     "execution_count": 111,
     "metadata": {},
     "output_type": "execute_result"
    }
   ],
   "source": [
    "df_aprop.head()"
   ]
  },
  {
   "cell_type": "code",
   "execution_count": 112,
   "metadata": {},
   "outputs": [
    {
     "data": {
      "text/html": [
       "<div>\n",
       "<style scoped>\n",
       "    .dataframe tbody tr th:only-of-type {\n",
       "        vertical-align: middle;\n",
       "    }\n",
       "\n",
       "    .dataframe tbody tr th {\n",
       "        vertical-align: top;\n",
       "    }\n",
       "\n",
       "    .dataframe thead th {\n",
       "        text-align: right;\n",
       "    }\n",
       "</style>\n",
       "<table border=\"1\" class=\"dataframe\">\n",
       "  <thead>\n",
       "    <tr style=\"text-align: right;\">\n",
       "      <th></th>\n",
       "      <th>index</th>\n",
       "      <th>description</th>\n",
       "      <th>location</th>\n",
       "      <th>attributs</th>\n",
       "      <th>price</th>\n",
       "    </tr>\n",
       "  </thead>\n",
       "  <tbody>\n",
       "    <tr>\n",
       "      <th>0</th>\n",
       "      <td>1</td>\n",
       "      <td>Piso reformado y amueblado en Sagrada Familia</td>\n",
       "      <td>Eixample Dreta, Barcelona ciudad</td>\n",
       "      <td>77m22 Dormitorios 2 Baños \\r\\n</td>\n",
       "      <td>515000</td>\n",
       "    </tr>\n",
       "    <tr>\n",
       "      <th>1</th>\n",
       "      <td>3</td>\n",
       "      <td>Piso reformado de cuatro habitaciones y balcón</td>\n",
       "      <td>Horta-Guinardó, Barcelona ciudad</td>\n",
       "      <td>101m24 Dormitorios 2 Baños \\r\\n</td>\n",
       "      <td>399000</td>\n",
       "    </tr>\n",
       "    <tr>\n",
       "      <th>2</th>\n",
       "      <td>5</td>\n",
       "      <td>Pieza única en venta en el corazón de St Gerva...</td>\n",
       "      <td>Sant Gervasi - Galvany, Barcelona ciudad</td>\n",
       "      <td>230m24 Dormitorios 4 Baños \\r\\n</td>\n",
       "      <td>1490000</td>\n",
       "    </tr>\n",
       "    <tr>\n",
       "      <th>3</th>\n",
       "      <td>7</td>\n",
       "      <td>Loft de diseño industrial en la calle Pujades,...</td>\n",
       "      <td>El Poblenou, Barcelona ciudad</td>\n",
       "      <td>68m21 Dormitorio 2 Baños \\r\\n</td>\n",
       "      <td>329000</td>\n",
       "    </tr>\n",
       "    <tr>\n",
       "      <th>4</th>\n",
       "      <td>9</td>\n",
       "      <td>Piso reformado muy luminoso cerca de Plaça Art...</td>\n",
       "      <td>Sarrià, Barcelona ciudad</td>\n",
       "      <td>105m22 Dormitorios 2 Baños \\r\\n</td>\n",
       "      <td>575000</td>\n",
       "    </tr>\n",
       "  </tbody>\n",
       "</table>\n",
       "</div>"
      ],
      "text/plain": [
       "   index                                        description  \\\n",
       "0      1      Piso reformado y amueblado en Sagrada Familia   \n",
       "1      3     Piso reformado de cuatro habitaciones y balcón   \n",
       "2      5  Pieza única en venta en el corazón de St Gerva...   \n",
       "3      7  Loft de diseño industrial en la calle Pujades,...   \n",
       "4      9  Piso reformado muy luminoso cerca de Plaça Art...   \n",
       "\n",
       "                                   location                        attributs  \\\n",
       "0          Eixample Dreta, Barcelona ciudad   77m22 Dormitorios 2 Baños \\r\\n   \n",
       "1          Horta-Guinardó, Barcelona ciudad  101m24 Dormitorios 2 Baños \\r\\n   \n",
       "2  Sant Gervasi - Galvany, Barcelona ciudad  230m24 Dormitorios 4 Baños \\r\\n   \n",
       "3             El Poblenou, Barcelona ciudad    68m21 Dormitorio 2 Baños \\r\\n   \n",
       "4                  Sarrià, Barcelona ciudad  105m22 Dormitorios 2 Baños \\r\\n   \n",
       "\n",
       "     price  \n",
       "0   515000  \n",
       "1   399000  \n",
       "2  1490000  \n",
       "3   329000  \n",
       "4   575000  "
      ]
     },
     "execution_count": 112,
     "metadata": {},
     "output_type": "execute_result"
    }
   ],
   "source": [
    "df_aprop_1 = df_aprop.loc[df_aprop.description.notnull()].reset_index()\n",
    "df_aprop_1.head()"
   ]
  },
  {
   "cell_type": "code",
   "execution_count": 113,
   "metadata": {},
   "outputs": [
    {
     "data": {
      "text/plain": [
       "index          0\n",
       "description    0\n",
       "location       0\n",
       "attributs      0\n",
       "price          0\n",
       "dtype: int64"
      ]
     },
     "execution_count": 113,
     "metadata": {},
     "output_type": "execute_result"
    }
   ],
   "source": [
    "df_aprop_1.isna().sum()"
   ]
  },
  {
   "cell_type": "code",
   "execution_count": 114,
   "metadata": {},
   "outputs": [],
   "source": [
    "df_aprop_1['attributs'] = df_aprop_1['attributs'].str.replace('m2',' ')\n",
    "#df_aprop_1['attributs'] = df_aprop_1['attributs'].str.replace('Dormitorio','')\n",
    "#df_aprop_1['attributs'] = df_aprop_1['attributs'].str.replace('Baños',' ')"
   ]
  },
  {
   "cell_type": "code",
   "execution_count": 115,
   "metadata": {},
   "outputs": [
    {
     "data": {
      "text/plain": [
       "0       77 2 Dormitorios 2 Baños \\r\\n\n",
       "1      101 4 Dormitorios 2 Baños \\r\\n\n",
       "2      230 4 Dormitorios 4 Baños \\r\\n\n",
       "3        68 1 Dormitorio 2 Baños \\r\\n\n",
       "4      105 2 Dormitorios 2 Baños \\r\\n\n",
       "                    ...              \n",
       "447     83 2 Dormitorios 2 Baños \\r\\n\n",
       "448    694 8 Dormitorios 7 Baños \\r\\n\n",
       "449    600 5 Dormitorios 7 Baños \\r\\n\n",
       "450    700 4 Dormitorios 4 Baños \\r\\n\n",
       "451    781 5 Dormitorios 6 Baños \\r\\n\n",
       "Name: attributs, Length: 452, dtype: object"
      ]
     },
     "execution_count": 115,
     "metadata": {},
     "output_type": "execute_result"
    }
   ],
   "source": [
    "df_aprop_1['attributs']"
   ]
  },
  {
   "cell_type": "code",
   "execution_count": 116,
   "metadata": {},
   "outputs": [],
   "source": [
    "df_aprop_1[['neighbourhood','district']]=df_aprop_1['location'].str.split(',', expand=True)\n",
    "df_aprop_1[['sqm_constr','room_n','dorm', 'bath_n', 'bath', 'garbage']]=df_aprop_1['attributs'].str.split(' ', expand=True)"
   ]
  },
  {
   "cell_type": "code",
   "execution_count": 117,
   "metadata": {},
   "outputs": [
    {
     "data": {
      "text/html": [
       "<div>\n",
       "<style scoped>\n",
       "    .dataframe tbody tr th:only-of-type {\n",
       "        vertical-align: middle;\n",
       "    }\n",
       "\n",
       "    .dataframe tbody tr th {\n",
       "        vertical-align: top;\n",
       "    }\n",
       "\n",
       "    .dataframe thead th {\n",
       "        text-align: right;\n",
       "    }\n",
       "</style>\n",
       "<table border=\"1\" class=\"dataframe\">\n",
       "  <thead>\n",
       "    <tr style=\"text-align: right;\">\n",
       "      <th></th>\n",
       "      <th>index</th>\n",
       "      <th>description</th>\n",
       "      <th>location</th>\n",
       "      <th>attributs</th>\n",
       "      <th>price</th>\n",
       "      <th>neighbourhood</th>\n",
       "      <th>district</th>\n",
       "      <th>sqm_constr</th>\n",
       "      <th>room_n</th>\n",
       "      <th>dorm</th>\n",
       "      <th>bath_n</th>\n",
       "      <th>bath</th>\n",
       "      <th>garbage</th>\n",
       "    </tr>\n",
       "  </thead>\n",
       "  <tbody>\n",
       "    <tr>\n",
       "      <th>0</th>\n",
       "      <td>1</td>\n",
       "      <td>Piso reformado y amueblado en Sagrada Familia</td>\n",
       "      <td>Eixample Dreta, Barcelona ciudad</td>\n",
       "      <td>77 2 Dormitorios 2 Baños \\r\\n</td>\n",
       "      <td>515000</td>\n",
       "      <td>Eixample Dreta</td>\n",
       "      <td>Barcelona ciudad</td>\n",
       "      <td>77</td>\n",
       "      <td>2</td>\n",
       "      <td>Dormitorios</td>\n",
       "      <td>2</td>\n",
       "      <td>Baños</td>\n",
       "      <td>\\r\\n</td>\n",
       "    </tr>\n",
       "    <tr>\n",
       "      <th>1</th>\n",
       "      <td>3</td>\n",
       "      <td>Piso reformado de cuatro habitaciones y balcón</td>\n",
       "      <td>Horta-Guinardó, Barcelona ciudad</td>\n",
       "      <td>101 4 Dormitorios 2 Baños \\r\\n</td>\n",
       "      <td>399000</td>\n",
       "      <td>Horta-Guinardó</td>\n",
       "      <td>Barcelona ciudad</td>\n",
       "      <td>101</td>\n",
       "      <td>4</td>\n",
       "      <td>Dormitorios</td>\n",
       "      <td>2</td>\n",
       "      <td>Baños</td>\n",
       "      <td>\\r\\n</td>\n",
       "    </tr>\n",
       "    <tr>\n",
       "      <th>2</th>\n",
       "      <td>5</td>\n",
       "      <td>Pieza única en venta en el corazón de St Gerva...</td>\n",
       "      <td>Sant Gervasi - Galvany, Barcelona ciudad</td>\n",
       "      <td>230 4 Dormitorios 4 Baños \\r\\n</td>\n",
       "      <td>1490000</td>\n",
       "      <td>Sant Gervasi - Galvany</td>\n",
       "      <td>Barcelona ciudad</td>\n",
       "      <td>230</td>\n",
       "      <td>4</td>\n",
       "      <td>Dormitorios</td>\n",
       "      <td>4</td>\n",
       "      <td>Baños</td>\n",
       "      <td>\\r\\n</td>\n",
       "    </tr>\n",
       "    <tr>\n",
       "      <th>3</th>\n",
       "      <td>7</td>\n",
       "      <td>Loft de diseño industrial en la calle Pujades,...</td>\n",
       "      <td>El Poblenou, Barcelona ciudad</td>\n",
       "      <td>68 1 Dormitorio 2 Baños \\r\\n</td>\n",
       "      <td>329000</td>\n",
       "      <td>El Poblenou</td>\n",
       "      <td>Barcelona ciudad</td>\n",
       "      <td>68</td>\n",
       "      <td>1</td>\n",
       "      <td>Dormitorio</td>\n",
       "      <td>2</td>\n",
       "      <td>Baños</td>\n",
       "      <td>\\r\\n</td>\n",
       "    </tr>\n",
       "    <tr>\n",
       "      <th>4</th>\n",
       "      <td>9</td>\n",
       "      <td>Piso reformado muy luminoso cerca de Plaça Art...</td>\n",
       "      <td>Sarrià, Barcelona ciudad</td>\n",
       "      <td>105 2 Dormitorios 2 Baños \\r\\n</td>\n",
       "      <td>575000</td>\n",
       "      <td>Sarrià</td>\n",
       "      <td>Barcelona ciudad</td>\n",
       "      <td>105</td>\n",
       "      <td>2</td>\n",
       "      <td>Dormitorios</td>\n",
       "      <td>2</td>\n",
       "      <td>Baños</td>\n",
       "      <td>\\r\\n</td>\n",
       "    </tr>\n",
       "  </tbody>\n",
       "</table>\n",
       "</div>"
      ],
      "text/plain": [
       "   index                                        description  \\\n",
       "0      1      Piso reformado y amueblado en Sagrada Familia   \n",
       "1      3     Piso reformado de cuatro habitaciones y balcón   \n",
       "2      5  Pieza única en venta en el corazón de St Gerva...   \n",
       "3      7  Loft de diseño industrial en la calle Pujades,...   \n",
       "4      9  Piso reformado muy luminoso cerca de Plaça Art...   \n",
       "\n",
       "                                   location                       attributs  \\\n",
       "0          Eixample Dreta, Barcelona ciudad   77 2 Dormitorios 2 Baños \\r\\n   \n",
       "1          Horta-Guinardó, Barcelona ciudad  101 4 Dormitorios 2 Baños \\r\\n   \n",
       "2  Sant Gervasi - Galvany, Barcelona ciudad  230 4 Dormitorios 4 Baños \\r\\n   \n",
       "3             El Poblenou, Barcelona ciudad    68 1 Dormitorio 2 Baños \\r\\n   \n",
       "4                  Sarrià, Barcelona ciudad  105 2 Dormitorios 2 Baños \\r\\n   \n",
       "\n",
       "     price           neighbourhood           district sqm_constr room_n  \\\n",
       "0   515000          Eixample Dreta   Barcelona ciudad         77      2   \n",
       "1   399000          Horta-Guinardó   Barcelona ciudad        101      4   \n",
       "2  1490000  Sant Gervasi - Galvany   Barcelona ciudad        230      4   \n",
       "3   329000             El Poblenou   Barcelona ciudad         68      1   \n",
       "4   575000                  Sarrià   Barcelona ciudad        105      2   \n",
       "\n",
       "          dorm bath_n   bath garbage  \n",
       "0  Dormitorios      2  Baños    \\r\\n  \n",
       "1  Dormitorios      2  Baños    \\r\\n  \n",
       "2  Dormitorios      4  Baños    \\r\\n  \n",
       "3   Dormitorio      2  Baños    \\r\\n  \n",
       "4  Dormitorios      2  Baños    \\r\\n  "
      ]
     },
     "execution_count": 117,
     "metadata": {},
     "output_type": "execute_result"
    }
   ],
   "source": [
    "df_aprop_1.head()"
   ]
  },
  {
   "cell_type": "code",
   "execution_count": 118,
   "metadata": {},
   "outputs": [],
   "source": [
    "df_aprop_2 = df_aprop_1[['description','district', 'neighbourhood', 'room_n', 'bath_n', 'sqm_constr', 'price']]"
   ]
  },
  {
   "cell_type": "code",
   "execution_count": 119,
   "metadata": {},
   "outputs": [
    {
     "data": {
      "text/plain": [
       "Eixample Dreta                85\n",
       "Eixample Esquerra             74\n",
       "Sant Gervasi - La Bonanova    31\n",
       "Sant Gervasi - Galvany        24\n",
       "Sarrià                        23\n",
       "El Raval                      18\n",
       "El Poblenou                   18\n",
       "El Gòtic                      17\n",
       "El Born                       16\n",
       "Les Tres Torres               15\n",
       "La Sagrada Família            15\n",
       "Pedralbes                     13\n",
       "Turó Park                     13\n",
       "Les Corts                     12\n",
       "El Poble Sec                  11\n",
       "Diagonal Mar                  11\n",
       "Sant Antoni                   11\n",
       "Vila de Gràcia                11\n",
       "Sants                          9\n",
       "Horta-Guinardó                 5\n",
       "La Barceloneta                 4\n",
       "Barcelona                      4\n",
       "El Fort Pienc                  3\n",
       "La Salut                       3\n",
       "El Camp de l'Arpa              2\n",
       "El Clot                        1\n",
       "Papiol (el)                    1\n",
       "Vallvidrera                    1\n",
       "La Vila Olímpica               1\n",
       "Name: neighbourhood, dtype: int64"
      ]
     },
     "execution_count": 119,
     "metadata": {},
     "output_type": "execute_result"
    }
   ],
   "source": [
    "df_aprop_2.neighbourhood.value_counts()"
   ]
  },
  {
   "cell_type": "code",
   "execution_count": 120,
   "metadata": {},
   "outputs": [],
   "source": [
    "distritos = ['ciutat_vella', 'nou_barris', 'sarria_san_gervasi', 'les_corts', 'gracia', 'sants-montjuic', 'sant_marti', 'sant_andreu', 'eixample', 'horta_guinardo']\n",
    "\n",
    "neighbourhoods = {'Eixample Dreta':'Eixample', 'Sant Antoni':'Eixample',\n",
    "                 'Eixample Esquerra':'Eixample','La Sagrada Família':'Eixample', 'El Fort Pienc ':'Eixample','Horta-Guinardó':'Horta Guinardó', \n",
    "                 'Sant Gervasi - Galvany':'Sarria-Sant_Gervasi', 'Sarrià':'Sarria-Sant_Gervasi','Sant Gervasi - La Bonanova':'Sarria-Sant_Gervasi',\n",
    "                 'Turó Park':'Sarria-Sant_Gervasi','Pedralbes':'Sarria-Sant_Gervasi', 'Les Tres Torres':'Sarria-Sant_Gervasi', 'Vallvidrera':'Sarria-Sant_Gervasi',\n",
    "                 'El Poblenou':'Sant Marti' , 'Diagonal Mar':'Sant Marti', 'El Clot':'Sant Marti', \n",
    "                 'La Vila Olímpica':'Sant Marti', \"El Camp de l'Arpa\":'Sant Marti',\n",
    "                 'El Gòtic':'Ciutat Vella', 'El Born':'Ciutat Vella', 'El Raval':'Ciutat Vella', 'La Barceloneta':'Ciutat Vella',\n",
    "                 'Vila de Gràcia':'Gràcia','Sants':'Sants Montjuic', 'El Poble Sec':'Sants Montjuic',\n",
    "                 'Barcelona':'Les Corts', 'Les Corts':'Les Corts'}\n",
    "\n",
    "def get_dist(neigh): \n",
    "    for key, value in neighbourhoods.items():\n",
    "        if neigh == key:\n",
    "            return value \n",
    "    return 'none'"
   ]
  },
  {
   "cell_type": "code",
   "execution_count": 121,
   "metadata": {},
   "outputs": [
    {
     "name": "stderr",
     "output_type": "stream",
     "text": [
      "<ipython-input-121-14493d0f9b0d>:1: SettingWithCopyWarning: \n",
      "A value is trying to be set on a copy of a slice from a DataFrame.\n",
      "Try using .loc[row_indexer,col_indexer] = value instead\n",
      "\n",
      "See the caveats in the documentation: https://pandas.pydata.org/pandas-docs/stable/user_guide/indexing.html#returning-a-view-versus-a-copy\n",
      "  df_aprop_2['district']=df_aprop_2.neighbourhood.apply(lambda x: get_dist(x))\n"
     ]
    },
    {
     "data": {
      "text/plain": [
       "Eixample               188\n",
       "Sarria-Sant_Gervasi    120\n",
       "Ciutat Vella            55\n",
       "Sant Marti              33\n",
       "Sants Montjuic          20\n",
       "Les Corts               16\n",
       "Gràcia                  11\n",
       "Horta Guinardó           5\n",
       "none                     4\n",
       "Name: district, dtype: int64"
      ]
     },
     "execution_count": 121,
     "metadata": {},
     "output_type": "execute_result"
    }
   ],
   "source": [
    "df_aprop_2['district']=df_aprop_2.neighbourhood.apply(lambda x: get_dist(x))\n",
    "df_aprop_2.district.value_counts()"
   ]
  },
  {
   "cell_type": "code",
   "execution_count": 122,
   "metadata": {},
   "outputs": [
    {
     "name": "stderr",
     "output_type": "stream",
     "text": [
      "<ipython-input-122-f6926d224a2e>:4: SettingWithCopyWarning: \n",
      "A value is trying to be set on a copy of a slice from a DataFrame.\n",
      "Try using .loc[row_indexer,col_indexer] = value instead\n",
      "\n",
      "See the caveats in the documentation: https://pandas.pydata.org/pandas-docs/stable/user_guide/indexing.html#returning-a-view-versus-a-copy\n",
      "  df_aprop_2[col] = df_aprop_2[col].apply(pd.to_numeric, errors='coerce')\n"
     ]
    }
   ],
   "source": [
    "to_num = ['room_n', 'bath_n', 'sqm_constr', 'price']\n",
    "\n",
    "for col in to_num:\n",
    "    df_aprop_2[col] = df_aprop_2[col].apply(pd.to_numeric, errors='coerce')"
   ]
  },
  {
   "cell_type": "code",
   "execution_count": 167,
   "metadata": {},
   "outputs": [
    {
     "data": {
      "text/plain": [
       "description       object\n",
       "district          object\n",
       "neighbourhood     object\n",
       "room_n           float64\n",
       "bath_n           float64\n",
       "sqm_constr       float64\n",
       "price            float64\n",
       "renovated          int32\n",
       "dtype: object"
      ]
     },
     "execution_count": 167,
     "metadata": {},
     "output_type": "execute_result"
    }
   ],
   "source": [
    "df_aprop_2.dtypes"
   ]
  },
  {
   "cell_type": "code",
   "execution_count": 124,
   "metadata": {},
   "outputs": [
    {
     "data": {
      "text/plain": [
       "description       0\n",
       "district          0\n",
       "neighbourhood     0\n",
       "room_n           58\n",
       "bath_n            5\n",
       "sqm_constr        0\n",
       "price            63\n",
       "dtype: int64"
      ]
     },
     "execution_count": 124,
     "metadata": {},
     "output_type": "execute_result"
    }
   ],
   "source": [
    "df_aprop_2.isna().sum()"
   ]
  },
  {
   "cell_type": "code",
   "execution_count": 125,
   "metadata": {},
   "outputs": [
    {
     "name": "stderr",
     "output_type": "stream",
     "text": [
      "<ipython-input-125-b51944b83982>:1: SettingWithCopyWarning: \n",
      "A value is trying to be set on a copy of a slice from a DataFrame.\n",
      "Try using .loc[row_indexer,col_indexer] = value instead\n",
      "\n",
      "See the caveats in the documentation: https://pandas.pydata.org/pandas-docs/stable/user_guide/indexing.html#returning-a-view-versus-a-copy\n",
      "  df_aprop_2['renovated']=np.where(df_aprop_2.description.str.contains('reforma'),1,0)\n"
     ]
    }
   ],
   "source": [
    "df_aprop_2['renovated']=np.where(df_aprop_2.description.str.contains('reforma'),1,0)"
   ]
  },
  {
   "cell_type": "code",
   "execution_count": 126,
   "metadata": {},
   "outputs": [
    {
     "name": "stderr",
     "output_type": "stream",
     "text": [
      "<ipython-input-126-9b45323cb97d>:1: SettingWithCopyWarning: \n",
      "A value is trying to be set on a copy of a slice from a DataFrame\n",
      "\n",
      "See the caveats in the documentation: https://pandas.pydata.org/pandas-docs/stable/user_guide/indexing.html#returning-a-view-versus-a-copy\n",
      "  df_aprop_2.dropna(inplace=True)\n"
     ]
    }
   ],
   "source": [
    "df_aprop_2.dropna(inplace=True)"
   ]
  },
  {
   "cell_type": "code",
   "execution_count": 127,
   "metadata": {},
   "outputs": [
    {
     "data": {
      "text/html": [
       "<div>\n",
       "<style scoped>\n",
       "    .dataframe tbody tr th:only-of-type {\n",
       "        vertical-align: middle;\n",
       "    }\n",
       "\n",
       "    .dataframe tbody tr th {\n",
       "        vertical-align: top;\n",
       "    }\n",
       "\n",
       "    .dataframe thead th {\n",
       "        text-align: right;\n",
       "    }\n",
       "</style>\n",
       "<table border=\"1\" class=\"dataframe\">\n",
       "  <thead>\n",
       "    <tr style=\"text-align: right;\">\n",
       "      <th></th>\n",
       "      <th>description</th>\n",
       "      <th>district</th>\n",
       "      <th>neighbourhood</th>\n",
       "      <th>room_n</th>\n",
       "      <th>bath_n</th>\n",
       "      <th>sqm_constr</th>\n",
       "      <th>price</th>\n",
       "      <th>renovated</th>\n",
       "    </tr>\n",
       "  </thead>\n",
       "  <tbody>\n",
       "    <tr>\n",
       "      <th>0</th>\n",
       "      <td>Piso reformado y amueblado en Sagrada Familia</td>\n",
       "      <td>Eixample</td>\n",
       "      <td>Eixample Dreta</td>\n",
       "      <td>2.0</td>\n",
       "      <td>2.0</td>\n",
       "      <td>77.0</td>\n",
       "      <td>515000.0</td>\n",
       "      <td>1</td>\n",
       "    </tr>\n",
       "    <tr>\n",
       "      <th>1</th>\n",
       "      <td>Piso reformado de cuatro habitaciones y balcón</td>\n",
       "      <td>Horta Guinardó</td>\n",
       "      <td>Horta-Guinardó</td>\n",
       "      <td>4.0</td>\n",
       "      <td>2.0</td>\n",
       "      <td>101.0</td>\n",
       "      <td>399000.0</td>\n",
       "      <td>1</td>\n",
       "    </tr>\n",
       "    <tr>\n",
       "      <th>2</th>\n",
       "      <td>Pieza única en venta en el corazón de St Gerva...</td>\n",
       "      <td>Sarria-Sant_Gervasi</td>\n",
       "      <td>Sant Gervasi - Galvany</td>\n",
       "      <td>4.0</td>\n",
       "      <td>4.0</td>\n",
       "      <td>230.0</td>\n",
       "      <td>1490000.0</td>\n",
       "      <td>0</td>\n",
       "    </tr>\n",
       "    <tr>\n",
       "      <th>3</th>\n",
       "      <td>Loft de diseño industrial en la calle Pujades,...</td>\n",
       "      <td>Sant Marti</td>\n",
       "      <td>El Poblenou</td>\n",
       "      <td>1.0</td>\n",
       "      <td>2.0</td>\n",
       "      <td>68.0</td>\n",
       "      <td>329000.0</td>\n",
       "      <td>0</td>\n",
       "    </tr>\n",
       "    <tr>\n",
       "      <th>4</th>\n",
       "      <td>Piso reformado muy luminoso cerca de Plaça Art...</td>\n",
       "      <td>Sarria-Sant_Gervasi</td>\n",
       "      <td>Sarrià</td>\n",
       "      <td>2.0</td>\n",
       "      <td>2.0</td>\n",
       "      <td>105.0</td>\n",
       "      <td>575000.0</td>\n",
       "      <td>1</td>\n",
       "    </tr>\n",
       "    <tr>\n",
       "      <th>...</th>\n",
       "      <td>...</td>\n",
       "      <td>...</td>\n",
       "      <td>...</td>\n",
       "      <td>...</td>\n",
       "      <td>...</td>\n",
       "      <td>...</td>\n",
       "      <td>...</td>\n",
       "      <td>...</td>\n",
       "    </tr>\n",
       "    <tr>\n",
       "      <th>444</th>\n",
       "      <td>Exclusiva casa en venta en Collserola</td>\n",
       "      <td>Sarria-Sant_Gervasi</td>\n",
       "      <td>Vallvidrera</td>\n",
       "      <td>6.0</td>\n",
       "      <td>6.0</td>\n",
       "      <td>380.0</td>\n",
       "      <td>1850000.0</td>\n",
       "      <td>0</td>\n",
       "    </tr>\n",
       "    <tr>\n",
       "      <th>445</th>\n",
       "      <td>Casa en venta en Pedralbes</td>\n",
       "      <td>Sarria-Sant_Gervasi</td>\n",
       "      <td>Pedralbes</td>\n",
       "      <td>8.0</td>\n",
       "      <td>7.0</td>\n",
       "      <td>750.0</td>\n",
       "      <td>5800000.0</td>\n",
       "      <td>0</td>\n",
       "    </tr>\n",
       "    <tr>\n",
       "      <th>446</th>\n",
       "      <td>Casa en venta con espectaculares vistas a Barc...</td>\n",
       "      <td>Sarria-Sant_Gervasi</td>\n",
       "      <td>Sarrià</td>\n",
       "      <td>5.0</td>\n",
       "      <td>3.0</td>\n",
       "      <td>376.0</td>\n",
       "      <td>1150000.0</td>\n",
       "      <td>0</td>\n",
       "    </tr>\n",
       "    <tr>\n",
       "      <th>447</th>\n",
       "      <td>Exclusiva vivienda en venta en Diagonal Mar</td>\n",
       "      <td>Sant Marti</td>\n",
       "      <td>Diagonal Mar</td>\n",
       "      <td>2.0</td>\n",
       "      <td>2.0</td>\n",
       "      <td>83.0</td>\n",
       "      <td>790000.0</td>\n",
       "      <td>0</td>\n",
       "    </tr>\n",
       "    <tr>\n",
       "      <th>449</th>\n",
       "      <td>Excelente casa en Pedralbes con vistas a Barce...</td>\n",
       "      <td>Sarria-Sant_Gervasi</td>\n",
       "      <td>Pedralbes</td>\n",
       "      <td>5.0</td>\n",
       "      <td>7.0</td>\n",
       "      <td>600.0</td>\n",
       "      <td>6900000.0</td>\n",
       "      <td>0</td>\n",
       "    </tr>\n",
       "  </tbody>\n",
       "</table>\n",
       "<p>388 rows × 8 columns</p>\n",
       "</div>"
      ],
      "text/plain": [
       "                                           description             district  \\\n",
       "0        Piso reformado y amueblado en Sagrada Familia             Eixample   \n",
       "1       Piso reformado de cuatro habitaciones y balcón       Horta Guinardó   \n",
       "2    Pieza única en venta en el corazón de St Gerva...  Sarria-Sant_Gervasi   \n",
       "3    Loft de diseño industrial en la calle Pujades,...           Sant Marti   \n",
       "4    Piso reformado muy luminoso cerca de Plaça Art...  Sarria-Sant_Gervasi   \n",
       "..                                                 ...                  ...   \n",
       "444              Exclusiva casa en venta en Collserola  Sarria-Sant_Gervasi   \n",
       "445                         Casa en venta en Pedralbes  Sarria-Sant_Gervasi   \n",
       "446  Casa en venta con espectaculares vistas a Barc...  Sarria-Sant_Gervasi   \n",
       "447        Exclusiva vivienda en venta en Diagonal Mar           Sant Marti   \n",
       "449  Excelente casa en Pedralbes con vistas a Barce...  Sarria-Sant_Gervasi   \n",
       "\n",
       "              neighbourhood  room_n  bath_n  sqm_constr      price  renovated  \n",
       "0            Eixample Dreta     2.0     2.0        77.0   515000.0          1  \n",
       "1            Horta-Guinardó     4.0     2.0       101.0   399000.0          1  \n",
       "2    Sant Gervasi - Galvany     4.0     4.0       230.0  1490000.0          0  \n",
       "3               El Poblenou     1.0     2.0        68.0   329000.0          0  \n",
       "4                    Sarrià     2.0     2.0       105.0   575000.0          1  \n",
       "..                      ...     ...     ...         ...        ...        ...  \n",
       "444             Vallvidrera     6.0     6.0       380.0  1850000.0          0  \n",
       "445               Pedralbes     8.0     7.0       750.0  5800000.0          0  \n",
       "446                  Sarrià     5.0     3.0       376.0  1150000.0          0  \n",
       "447            Diagonal Mar     2.0     2.0        83.0   790000.0          0  \n",
       "449               Pedralbes     5.0     7.0       600.0  6900000.0          0  \n",
       "\n",
       "[388 rows x 8 columns]"
      ]
     },
     "execution_count": 127,
     "metadata": {},
     "output_type": "execute_result"
    }
   ],
   "source": [
    "df_aprop_2"
   ]
  },
  {
   "cell_type": "code",
   "execution_count": 153,
   "metadata": {},
   "outputs": [
    {
     "data": {
      "text/plain": [
       "Index(['description', 'district', 'neighbourhood', 'room_n', 'bath_n',\n",
       "       'sqm_constr', 'price', 'renovated'],\n",
       "      dtype='object')"
      ]
     },
     "execution_count": 153,
     "metadata": {},
     "output_type": "execute_result"
    }
   ],
   "source": [
    "df_aprop_2.columns"
   ]
  },
  {
   "cell_type": "code",
   "execution_count": 156,
   "metadata": {},
   "outputs": [],
   "source": [
    "df_aprop_3 = df_aprop_2[['district','room_n', 'bath_n','sqm_constr', 'renovated', 'price']]"
   ]
  },
  {
   "cell_type": "markdown",
   "metadata": {},
   "source": [
    "## Lucas Fox"
   ]
  },
  {
   "cell_type": "code",
   "execution_count": 213,
   "metadata": {},
   "outputs": [],
   "source": [
    "df_fox    = pd.read_csv(r'C:\\Users\\Migue Granica\\Desktop\\IronHack\\Modulo_3\\PROJECT_5\\csv\\lucas_fox.csv')"
   ]
  },
  {
   "cell_type": "code",
   "execution_count": 214,
   "metadata": {},
   "outputs": [
    {
     "data": {
      "text/html": [
       "<div>\n",
       "<style scoped>\n",
       "    .dataframe tbody tr th:only-of-type {\n",
       "        vertical-align: middle;\n",
       "    }\n",
       "\n",
       "    .dataframe tbody tr th {\n",
       "        vertical-align: top;\n",
       "    }\n",
       "\n",
       "    .dataframe thead th {\n",
       "        text-align: right;\n",
       "    }\n",
       "</style>\n",
       "<table border=\"1\" class=\"dataframe\">\n",
       "  <thead>\n",
       "    <tr style=\"text-align: right;\">\n",
       "      <th></th>\n",
       "      <th>Unnamed: 0</th>\n",
       "      <th>room_n</th>\n",
       "      <th>bath_n</th>\n",
       "      <th>sqm_constr</th>\n",
       "      <th>0_y</th>\n",
       "      <th>2_y</th>\n",
       "    </tr>\n",
       "  </thead>\n",
       "  <tbody>\n",
       "    <tr>\n",
       "      <th>0</th>\n",
       "      <td>0</td>\n",
       "      <td>6</td>\n",
       "      <td>2</td>\n",
       "      <td>166</td>\n",
       "      <td>780000</td>\n",
       "      <td>Gótico</td>\n",
       "    </tr>\n",
       "    <tr>\n",
       "      <th>1</th>\n",
       "      <td>1</td>\n",
       "      <td>1</td>\n",
       "      <td>1</td>\n",
       "      <td>48</td>\n",
       "      <td>330000</td>\n",
       "      <td>El Born</td>\n",
       "    </tr>\n",
       "    <tr>\n",
       "      <th>2</th>\n",
       "      <td>2</td>\n",
       "      <td>7</td>\n",
       "      <td>3</td>\n",
       "      <td>250</td>\n",
       "      <td>1600000</td>\n",
       "      <td>Eixample Izquierdo</td>\n",
       "    </tr>\n",
       "    <tr>\n",
       "      <th>3</th>\n",
       "      <td>3</td>\n",
       "      <td>3</td>\n",
       "      <td>2</td>\n",
       "      <td>71</td>\n",
       "      <td>480000</td>\n",
       "      <td>Eixample Izquierdo</td>\n",
       "    </tr>\n",
       "    <tr>\n",
       "      <th>4</th>\n",
       "      <td>4</td>\n",
       "      <td>4</td>\n",
       "      <td>3</td>\n",
       "      <td>117</td>\n",
       "      <td>850000</td>\n",
       "      <td>Eixample Derecho</td>\n",
       "    </tr>\n",
       "  </tbody>\n",
       "</table>\n",
       "</div>"
      ],
      "text/plain": [
       "   Unnamed: 0  room_n  bath_n sqm_constr      0_y                  2_y\n",
       "0           0       6       2        166   780000               Gótico\n",
       "1           1       1       1         48   330000              El Born\n",
       "2           2       7       3        250  1600000   Eixample Izquierdo\n",
       "3           3       3       2         71   480000   Eixample Izquierdo\n",
       "4           4       4       3        117   850000     Eixample Derecho"
      ]
     },
     "execution_count": 214,
     "metadata": {},
     "output_type": "execute_result"
    }
   ],
   "source": [
    "df_fox.head()"
   ]
  },
  {
   "cell_type": "code",
   "execution_count": 215,
   "metadata": {},
   "outputs": [
    {
     "data": {
      "text/plain": [
       "Unnamed: 0     int64\n",
       "room_n         int64\n",
       "bath_n         int64\n",
       "sqm_constr    object\n",
       "0_y           object\n",
       "2_y           object\n",
       "dtype: object"
      ]
     },
     "execution_count": 215,
     "metadata": {},
     "output_type": "execute_result"
    }
   ],
   "source": [
    "df_fox.dtypes"
   ]
  },
  {
   "cell_type": "code",
   "execution_count": 217,
   "metadata": {},
   "outputs": [],
   "source": [
    "to_num = ['sqm_constr', '0_y']\n",
    "\n",
    "for col in to_num:\n",
    "    df_fox[col] = df_fox[col].apply(pd.to_numeric, errors='coerce')"
   ]
  },
  {
   "cell_type": "code",
   "execution_count": 218,
   "metadata": {},
   "outputs": [
    {
     "data": {
      "text/html": [
       "<div>\n",
       "<style scoped>\n",
       "    .dataframe tbody tr th:only-of-type {\n",
       "        vertical-align: middle;\n",
       "    }\n",
       "\n",
       "    .dataframe tbody tr th {\n",
       "        vertical-align: top;\n",
       "    }\n",
       "\n",
       "    .dataframe thead th {\n",
       "        text-align: right;\n",
       "    }\n",
       "</style>\n",
       "<table border=\"1\" class=\"dataframe\">\n",
       "  <thead>\n",
       "    <tr style=\"text-align: right;\">\n",
       "      <th></th>\n",
       "      <th>Unnamed: 0</th>\n",
       "      <th>room_n</th>\n",
       "      <th>bath_n</th>\n",
       "      <th>sqm_constr</th>\n",
       "      <th>0_y</th>\n",
       "      <th>2_y</th>\n",
       "    </tr>\n",
       "  </thead>\n",
       "  <tbody>\n",
       "    <tr>\n",
       "      <th>0</th>\n",
       "      <td>0</td>\n",
       "      <td>6</td>\n",
       "      <td>2</td>\n",
       "      <td>166.0</td>\n",
       "      <td>780000.0</td>\n",
       "      <td>Gótico</td>\n",
       "    </tr>\n",
       "    <tr>\n",
       "      <th>1</th>\n",
       "      <td>1</td>\n",
       "      <td>1</td>\n",
       "      <td>1</td>\n",
       "      <td>48.0</td>\n",
       "      <td>330000.0</td>\n",
       "      <td>El Born</td>\n",
       "    </tr>\n",
       "    <tr>\n",
       "      <th>2</th>\n",
       "      <td>2</td>\n",
       "      <td>7</td>\n",
       "      <td>3</td>\n",
       "      <td>250.0</td>\n",
       "      <td>1600000.0</td>\n",
       "      <td>Eixample Izquierdo</td>\n",
       "    </tr>\n",
       "    <tr>\n",
       "      <th>3</th>\n",
       "      <td>3</td>\n",
       "      <td>3</td>\n",
       "      <td>2</td>\n",
       "      <td>71.0</td>\n",
       "      <td>480000.0</td>\n",
       "      <td>Eixample Izquierdo</td>\n",
       "    </tr>\n",
       "    <tr>\n",
       "      <th>4</th>\n",
       "      <td>4</td>\n",
       "      <td>4</td>\n",
       "      <td>3</td>\n",
       "      <td>117.0</td>\n",
       "      <td>850000.0</td>\n",
       "      <td>Eixample Derecho</td>\n",
       "    </tr>\n",
       "    <tr>\n",
       "      <th>...</th>\n",
       "      <td>...</td>\n",
       "      <td>...</td>\n",
       "      <td>...</td>\n",
       "      <td>...</td>\n",
       "      <td>...</td>\n",
       "      <td>...</td>\n",
       "    </tr>\n",
       "    <tr>\n",
       "      <th>618</th>\n",
       "      <td>620</td>\n",
       "      <td>5</td>\n",
       "      <td>5</td>\n",
       "      <td>600.0</td>\n",
       "      <td>2250000.0</td>\n",
       "      <td>Vallvidrera / Tibidabo</td>\n",
       "    </tr>\n",
       "    <tr>\n",
       "      <th>619</th>\n",
       "      <td>621</td>\n",
       "      <td>4</td>\n",
       "      <td>4</td>\n",
       "      <td>475.0</td>\n",
       "      <td>3600000.0</td>\n",
       "      <td>Pedralbes</td>\n",
       "    </tr>\n",
       "    <tr>\n",
       "      <th>620</th>\n",
       "      <td>622</td>\n",
       "      <td>2</td>\n",
       "      <td>2</td>\n",
       "      <td>124.0</td>\n",
       "      <td>650000.0</td>\n",
       "      <td>Gótico</td>\n",
       "    </tr>\n",
       "    <tr>\n",
       "      <th>621</th>\n",
       "      <td>623</td>\n",
       "      <td>4</td>\n",
       "      <td>3</td>\n",
       "      <td>177.0</td>\n",
       "      <td>2650000.0</td>\n",
       "      <td>Diagonal Mar</td>\n",
       "    </tr>\n",
       "    <tr>\n",
       "      <th>622</th>\n",
       "      <td>624</td>\n",
       "      <td>5</td>\n",
       "      <td>5</td>\n",
       "      <td>586.0</td>\n",
       "      <td>5950000.0</td>\n",
       "      <td>Pedralbes</td>\n",
       "    </tr>\n",
       "  </tbody>\n",
       "</table>\n",
       "<p>623 rows × 6 columns</p>\n",
       "</div>"
      ],
      "text/plain": [
       "     Unnamed: 0  room_n  bath_n  sqm_constr        0_y  \\\n",
       "0             0       6       2       166.0   780000.0   \n",
       "1             1       1       1        48.0   330000.0   \n",
       "2             2       7       3       250.0  1600000.0   \n",
       "3             3       3       2        71.0   480000.0   \n",
       "4             4       4       3       117.0   850000.0   \n",
       "..          ...     ...     ...         ...        ...   \n",
       "618         620       5       5       600.0  2250000.0   \n",
       "619         621       4       4       475.0  3600000.0   \n",
       "620         622       2       2       124.0   650000.0   \n",
       "621         623       4       3       177.0  2650000.0   \n",
       "622         624       5       5       586.0  5950000.0   \n",
       "\n",
       "                         2_y  \n",
       "0                     Gótico  \n",
       "1                    El Born  \n",
       "2         Eixample Izquierdo  \n",
       "3         Eixample Izquierdo  \n",
       "4           Eixample Derecho  \n",
       "..                       ...  \n",
       "618   Vallvidrera / Tibidabo  \n",
       "619                Pedralbes  \n",
       "620                   Gótico  \n",
       "621             Diagonal Mar  \n",
       "622                Pedralbes  \n",
       "\n",
       "[623 rows x 6 columns]"
      ]
     },
     "execution_count": 218,
     "metadata": {},
     "output_type": "execute_result"
    }
   ],
   "source": [
    "df_fox"
   ]
  },
  {
   "cell_type": "code",
   "execution_count": 219,
   "metadata": {},
   "outputs": [
    {
     "data": {
      "text/plain": [
       "array([' Gótico', ' El Born', ' Eixample Izquierdo', ' Eixample Derecho',\n",
       "       ' Gràcia', ' Turó Park', ' Sarrià', ' Sant Gervasi - Galvany',\n",
       "       ' Sant Antoni', ' Sant Gervasi - La Bonanova', ' Poblenou',\n",
       "       ' El Raval', ' Barceloneta', ' Vila Olímpica', ' Pedralbes',\n",
       "       ' Sants', ' Poble Sec', ' Tres Torres', ' Diagonal Mar',\n",
       "       ' El Putxet', ' Vallvidrera / Tibidabo', ' Les Corts',\n",
       "       ' Badalona Beach'], dtype=object)"
      ]
     },
     "execution_count": 219,
     "metadata": {},
     "output_type": "execute_result"
    }
   ],
   "source": [
    "df_fox['2_y'].unique()"
   ]
  },
  {
   "cell_type": "code",
   "execution_count": 220,
   "metadata": {},
   "outputs": [],
   "source": [
    "\n",
    "neigh_fox = {' El Born':'Ciutat Vella', \n",
    "              ' Gótico':'Ciutat Vella',\n",
    "              ' El Raval':'Ciutat Vella',\n",
    "              ' Barceloneta':'Ciutat Vella',\n",
    "              \n",
    "              ' Eixample Izquierdo':'Eixample', \n",
    "              ' Eixample Derecho':'Eixample',\n",
    "              ' Sant Antoni':'Eixample',\n",
    "              \n",
    "              ' Gràcia':'Gràcia', \n",
    "              \n",
    "              ' Turó Park':'Sarria-Sant_Gervasi', \n",
    "              ' Sarrià':'Sarria-Sant_Gervasi', \n",
    "              ' Sant Gervasi - Galvany':'Sarria-Sant_Gervasi',\n",
    "              ' Vallvidrera / Tibidabo':'Sarria-Sant_Gervasi',\n",
    "              ' Sant Gervasi - La Bonanova':'Sarria-Sant_Gervasi', \n",
    "              ' Pedralbes':'Sarria-Sant_Gervasi',\n",
    "              ' Tres Torres':'Sarria-Sant_Gervasi',\n",
    "              ' El Putxet':'Sarria-Sant_Gervasi', \n",
    "              \n",
    "              ' Poblenou':'Sant Marti',\n",
    "              ' Diagonal Mar':'Sant Marti',     \n",
    "              ' Vila Olímpica':'Sant Marti', \n",
    "              \n",
    "              ' Sants':'Sants Montjuic', \n",
    "              ' Poble Sec':'Sants Montjuic', \n",
    "            \n",
    "              ' Les Corts':'Les Corts'}\n",
    "\n",
    "\n",
    "\n",
    "\n",
    "def get_dist_fox(neigh): \n",
    "    for key, value in neigh_fox.items():\n",
    "        if neigh == key:\n",
    "            return value \n",
    "    return 'none'"
   ]
  },
  {
   "cell_type": "code",
   "execution_count": 221,
   "metadata": {},
   "outputs": [
    {
     "data": {
      "text/plain": [
       "Index(['Unnamed: 0', 'room_n', 'bath_n', 'sqm_constr', '0_y', '2_y'], dtype='object')"
      ]
     },
     "execution_count": 221,
     "metadata": {},
     "output_type": "execute_result"
    }
   ],
   "source": [
    "df_fox.columns"
   ]
  },
  {
   "cell_type": "code",
   "execution_count": 222,
   "metadata": {},
   "outputs": [],
   "source": [
    "df_fox['district']=df_fox['2_y'].apply(lambda x: get_dist_fox(x))\n",
    "df_fox_2 = df_fox[['district', 'room_n', 'bath_n', '2_y', 'sqm_constr', '0_y']]"
   ]
  },
  {
   "cell_type": "code",
   "execution_count": 223,
   "metadata": {},
   "outputs": [],
   "source": [
    "#att_1.rename(columns={1:'room_n', 3:'bath_n', 5:'sqm_cosntr'}, inplace=True)\n",
    "df_fox_2.rename(columns={'2_y':'renovated','0_y':'price'}, inplace=True)"
   ]
  },
  {
   "cell_type": "code",
   "execution_count": 224,
   "metadata": {},
   "outputs": [
    {
     "name": "stderr",
     "output_type": "stream",
     "text": [
      "<ipython-input-224-aa559d934b56>:1: SettingWithCopyWarning: \n",
      "A value is trying to be set on a copy of a slice from a DataFrame.\n",
      "Try using .loc[row_indexer,col_indexer] = value instead\n",
      "\n",
      "See the caveats in the documentation: https://pandas.pydata.org/pandas-docs/stable/user_guide/indexing.html#returning-a-view-versus-a-copy\n",
      "  df_fox_2['renovated']=df_fox_2.renovated.apply(lambda x: 0)\n"
     ]
    }
   ],
   "source": [
    "df_fox_2['renovated']=df_fox_2.renovated.apply(lambda x: 0)"
   ]
  },
  {
   "cell_type": "markdown",
   "metadata": {},
   "source": [
    "# merging data"
   ]
  },
  {
   "cell_type": "code",
   "execution_count": 270,
   "metadata": {
    "scrolled": true
   },
   "outputs": [
    {
     "name": "stdout",
     "output_type": "stream",
     "text": [
      "null values in aproperties df:\n",
      "district      0\n",
      "room_n        0\n",
      "bath_n        0\n",
      "sqm_constr    0\n",
      "renovated     0\n",
      "price         0\n",
      "dtype: int64\n",
      "\n",
      "null values in Lucas Fox df:\n",
      "district      0\n",
      "room_n        0\n",
      "bath_n        0\n",
      "renovated     0\n",
      "sqm_constr    0\n",
      "price         0\n",
      "dtype: int64\n",
      "\n",
      "null values in Engel df:\n",
      "district       2\n",
      "room_n        60\n",
      "bath_n        67\n",
      "renovated      0\n",
      "sqm_constr    19\n",
      "price         76\n",
      "dtype: int64\n",
      "\n"
     ]
    }
   ],
   "source": [
    "print(f'null values in aproperties df:\\n{df_aprop_3.isna().sum()}\\n')\n",
    "print(f'null values in Lucas Fox df:\\n{df_fox_2.isna().sum()}\\n')\n",
    "print(f'null values in Engel df:\\n{df_engel_4.isna().sum()}\\n')"
   ]
  },
  {
   "cell_type": "code",
   "execution_count": 271,
   "metadata": {},
   "outputs": [
    {
     "name": "stderr",
     "output_type": "stream",
     "text": [
      "<ipython-input-271-40630b72bc39>:1: SettingWithCopyWarning: \n",
      "A value is trying to be set on a copy of a slice from a DataFrame\n",
      "\n",
      "See the caveats in the documentation: https://pandas.pydata.org/pandas-docs/stable/user_guide/indexing.html#returning-a-view-versus-a-copy\n",
      "  df_engel_4.dropna(inplace=True)\n",
      "<ipython-input-271-40630b72bc39>:2: SettingWithCopyWarning: \n",
      "A value is trying to be set on a copy of a slice from a DataFrame\n",
      "\n",
      "See the caveats in the documentation: https://pandas.pydata.org/pandas-docs/stable/user_guide/indexing.html#returning-a-view-versus-a-copy\n",
      "  df_fox_2.dropna(inplace=True)\n"
     ]
    }
   ],
   "source": [
    "df_engel_4.dropna(inplace=True)\n",
    "df_fox_2.dropna(inplace=True)"
   ]
  },
  {
   "cell_type": "code",
   "execution_count": 272,
   "metadata": {},
   "outputs": [],
   "source": [
    "frames = [df_engel_4, df_fox_2, df_aprop_3]\n",
    "\n",
    "result = pd.concat(frames)"
   ]
  },
  {
   "cell_type": "code",
   "execution_count": 273,
   "metadata": {},
   "outputs": [
    {
     "data": {
      "text/html": [
       "<div>\n",
       "<style scoped>\n",
       "    .dataframe tbody tr th:only-of-type {\n",
       "        vertical-align: middle;\n",
       "    }\n",
       "\n",
       "    .dataframe tbody tr th {\n",
       "        vertical-align: top;\n",
       "    }\n",
       "\n",
       "    .dataframe thead th {\n",
       "        text-align: right;\n",
       "    }\n",
       "</style>\n",
       "<table border=\"1\" class=\"dataframe\">\n",
       "  <thead>\n",
       "    <tr style=\"text-align: right;\">\n",
       "      <th></th>\n",
       "      <th>district</th>\n",
       "      <th>room_n</th>\n",
       "      <th>bath_n</th>\n",
       "      <th>renovated</th>\n",
       "      <th>sqm_constr</th>\n",
       "      <th>price</th>\n",
       "    </tr>\n",
       "  </thead>\n",
       "  <tbody>\n",
       "    <tr>\n",
       "      <th>0</th>\n",
       "      <td>Ciutat Vella</td>\n",
       "      <td>2.0</td>\n",
       "      <td>2.0</td>\n",
       "      <td>0</td>\n",
       "      <td>61.0</td>\n",
       "      <td>440000.0</td>\n",
       "    </tr>\n",
       "    <tr>\n",
       "      <th>1</th>\n",
       "      <td>Ciutat Vella</td>\n",
       "      <td>3.0</td>\n",
       "      <td>2.0</td>\n",
       "      <td>1</td>\n",
       "      <td>134.0</td>\n",
       "      <td>880000.0</td>\n",
       "    </tr>\n",
       "    <tr>\n",
       "      <th>2</th>\n",
       "      <td>Ciutat Vella</td>\n",
       "      <td>2.0</td>\n",
       "      <td>2.0</td>\n",
       "      <td>1</td>\n",
       "      <td>129.0</td>\n",
       "      <td>840000.0</td>\n",
       "    </tr>\n",
       "    <tr>\n",
       "      <th>3</th>\n",
       "      <td>Ciutat Vella</td>\n",
       "      <td>2.0</td>\n",
       "      <td>2.0</td>\n",
       "      <td>1</td>\n",
       "      <td>93.0</td>\n",
       "      <td>720000.0</td>\n",
       "    </tr>\n",
       "    <tr>\n",
       "      <th>4</th>\n",
       "      <td>Ciutat Vella</td>\n",
       "      <td>1.0</td>\n",
       "      <td>2.0</td>\n",
       "      <td>1</td>\n",
       "      <td>65.0</td>\n",
       "      <td>400000.0</td>\n",
       "    </tr>\n",
       "    <tr>\n",
       "      <th>...</th>\n",
       "      <td>...</td>\n",
       "      <td>...</td>\n",
       "      <td>...</td>\n",
       "      <td>...</td>\n",
       "      <td>...</td>\n",
       "      <td>...</td>\n",
       "    </tr>\n",
       "    <tr>\n",
       "      <th>444</th>\n",
       "      <td>Sarria-Sant_Gervasi</td>\n",
       "      <td>6.0</td>\n",
       "      <td>6.0</td>\n",
       "      <td>0</td>\n",
       "      <td>380.0</td>\n",
       "      <td>1850000.0</td>\n",
       "    </tr>\n",
       "    <tr>\n",
       "      <th>445</th>\n",
       "      <td>Sarria-Sant_Gervasi</td>\n",
       "      <td>8.0</td>\n",
       "      <td>7.0</td>\n",
       "      <td>0</td>\n",
       "      <td>750.0</td>\n",
       "      <td>5800000.0</td>\n",
       "    </tr>\n",
       "    <tr>\n",
       "      <th>446</th>\n",
       "      <td>Sarria-Sant_Gervasi</td>\n",
       "      <td>5.0</td>\n",
       "      <td>3.0</td>\n",
       "      <td>0</td>\n",
       "      <td>376.0</td>\n",
       "      <td>1150000.0</td>\n",
       "    </tr>\n",
       "    <tr>\n",
       "      <th>447</th>\n",
       "      <td>Sant Marti</td>\n",
       "      <td>2.0</td>\n",
       "      <td>2.0</td>\n",
       "      <td>0</td>\n",
       "      <td>83.0</td>\n",
       "      <td>790000.0</td>\n",
       "    </tr>\n",
       "    <tr>\n",
       "      <th>449</th>\n",
       "      <td>Sarria-Sant_Gervasi</td>\n",
       "      <td>5.0</td>\n",
       "      <td>7.0</td>\n",
       "      <td>0</td>\n",
       "      <td>600.0</td>\n",
       "      <td>6900000.0</td>\n",
       "    </tr>\n",
       "  </tbody>\n",
       "</table>\n",
       "<p>1998 rows × 6 columns</p>\n",
       "</div>"
      ],
      "text/plain": [
       "                district  room_n  bath_n  renovated  sqm_constr      price\n",
       "0           Ciutat Vella     2.0     2.0          0        61.0   440000.0\n",
       "1           Ciutat Vella     3.0     2.0          1       134.0   880000.0\n",
       "2           Ciutat Vella     2.0     2.0          1       129.0   840000.0\n",
       "3           Ciutat Vella     2.0     2.0          1        93.0   720000.0\n",
       "4           Ciutat Vella     1.0     2.0          1        65.0   400000.0\n",
       "..                   ...     ...     ...        ...         ...        ...\n",
       "444  Sarria-Sant_Gervasi     6.0     6.0          0       380.0  1850000.0\n",
       "445  Sarria-Sant_Gervasi     8.0     7.0          0       750.0  5800000.0\n",
       "446  Sarria-Sant_Gervasi     5.0     3.0          0       376.0  1150000.0\n",
       "447           Sant Marti     2.0     2.0          0        83.0   790000.0\n",
       "449  Sarria-Sant_Gervasi     5.0     7.0          0       600.0  6900000.0\n",
       "\n",
       "[1998 rows x 6 columns]"
      ]
     },
     "execution_count": 273,
     "metadata": {},
     "output_type": "execute_result"
    }
   ],
   "source": [
    "result"
   ]
  },
  {
   "cell_type": "code",
   "execution_count": 274,
   "metadata": {},
   "outputs": [],
   "source": [
    "result.to_csv('prop_prices.csv')"
   ]
  },
  {
   "cell_type": "code",
   "execution_count": null,
   "metadata": {},
   "outputs": [],
   "source": []
  }
 ],
 "metadata": {
  "kernelspec": {
   "display_name": "Python 3",
   "language": "python",
   "name": "python3"
  },
  "language_info": {
   "codemirror_mode": {
    "name": "ipython",
    "version": 3
   },
   "file_extension": ".py",
   "mimetype": "text/x-python",
   "name": "python",
   "nbconvert_exporter": "python",
   "pygments_lexer": "ipython3",
   "version": "3.8.0"
  }
 },
 "nbformat": 4,
 "nbformat_minor": 4
}
